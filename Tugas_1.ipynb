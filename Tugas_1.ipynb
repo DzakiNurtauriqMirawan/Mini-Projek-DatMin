{
  "nbformat": 4,
  "nbformat_minor": 0,
  "metadata": {
    "colab": {
      "provenance": [],
      "authorship_tag": "ABX9TyP4YItXzmW0CV4XTIGDD25g",
      "include_colab_link": true
    },
    "kernelspec": {
      "name": "python3",
      "display_name": "Python 3"
    },
    "language_info": {
      "name": "python"
    }
  },
  "cells": [
    {
      "cell_type": "markdown",
      "metadata": {
        "id": "view-in-github",
        "colab_type": "text"
      },
      "source": [
        "<a href=\"https://colab.research.google.com/github/DzakiNurtauriqMirawan/Mini-Projek-DatMin/blob/main/Tugas_1.ipynb\" target=\"_parent\"><img src=\"https://colab.research.google.com/assets/colab-badge.svg\" alt=\"Open In Colab\"/></a>"
      ]
    },
    {
      "cell_type": "code",
      "execution_count": null,
      "metadata": {
        "id": "-NDRYs00HDyt"
      },
      "outputs": [],
      "source": []
    },
    {
      "cell_type": "markdown",
      "source": [
        "# Cornell Car Rental Dataset\n",
        "\n",
        "## Business Understanding\n",
        "\n",
        "### 1.\tBusinesses Objective (Tujuan atu Sasaran Bisnis)\n",
        "Tujuan utama dari proyek ini adalah untuk mendorong keputusan bisnis yang terinformasi dan cerdas dalam industri persewaan mobil, termasuk dinamika pasar seperti popularitas kendaraan, harga sewa tipikal, potensi kesenjangan dan kejenuhan pasar.\n",
        " Kami fokus pada analisis data yang dikumpulkan secara independen untuk memahami  di berbagai kota besar di Amerika.\n",
        "\n",
        "### 2.\tAssess Situation (Penilaian Situasi)\n",
        "Situasi yang dinilai mencakup proses pengumpulan data yang dilakukan pada bulan Juli 2020 yang mencakup penambangan web dari berbagai sumber online di kota-kota besar di AS (Amerika Serikat).  Metode ini menggunakan skrip scraping yang dikembangkan berdasarkan masukan dari komunitas StackOverflow dan memberikan pendekatan  kreatif dan teknis untuk mengatasi tantangan pengumpulan data  skala besar.\n",
        "\n",
        "### 3.\tData Mining Goals (Tujuan atu Sasaran dari Penggalian Data)\n",
        "\n",
        "Tujuan utama dari penggalian data ini adalah untuk mengidentifikasi pola dan tren yang relevan dalam industri persewaan mobil, termasuk mengidentifikasi merek dan model mobil  paling populer di setiap kota, menganalisis harga sewa pada umumnya, dan menilai potensi kejenuhan dan kesenjangan pasar itu bisa dieksploitasi.\n",
        "Selain itu, proyek ini juga akan menyelidiki hubungan antara peringkat yang diberikan oleh pengguna di situs persewaan mobil  dan persepsi keandalan serta konsistensi nilai peringkat yang tinggi.\n",
        "\n",
        "### 4.\tProject Plan (Rencana Proyek)\n",
        "Rencana proyek  mencakup langkah-langkah sistematis mulai dari pengumpulan data menggunakan skrip scraping yang dikembangkan hingga pembersihan dan pemrosesan data untuk memastikan kualitas dan konsistensi data yang dihasilkan.\n",
        " Analisis data kemudian dilakukan dengan menggunakan berbagai metode statistik dan teknik penambangan data untuk mengidentifikasi pola dan tren yang dapat memberikan wawasan berharga bagi bisnis .\n",
        " Hasil analisis akan diinterpretasikan secara cermat untuk mengambil keputusan strategis berdasarkan data, dengan harapan melalui pembagian kumpulan data yang dihasilkan kepada publik, akan memberikan kontribusi positif bagi industri persewaan mobil dan bermanfaat bagi masyarakat umum.\n"
      ],
      "metadata": {
        "id": "fmvf3lCHIdzG"
      }
    }
  ]
}