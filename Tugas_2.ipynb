{
  "nbformat": 4,
  "nbformat_minor": 0,
  "metadata": {
    "colab": {
      "provenance": [],
      "collapsed_sections": [
        "JNBmfbIjWxgM",
        "NjuQhrNyZtm3",
        "FjBTOoHE6lJb"
      ],
      "include_colab_link": true
    },
    "kernelspec": {
      "name": "python3",
      "display_name": "Python 3"
    },
    "language_info": {
      "name": "python"
    }
  },
  "cells": [
    {
      "cell_type": "markdown",
      "metadata": {
        "id": "view-in-github",
        "colab_type": "text"
      },
      "source": [
        "<a href=\"https://colab.research.google.com/github/DzakiNurtauriqMirawan/Mini-Projek-DatMin/blob/main/Tugas_2.ipynb\" target=\"_parent\"><img src=\"https://colab.research.google.com/assets/colab-badge.svg\" alt=\"Open In Colab\"/></a>"
      ]
    },
    {
      "cell_type": "markdown",
      "source": [
        "# **Analisis Car Rental Dataset**"
      ],
      "metadata": {
        "id": "h3AZjxo2ZxS6"
      }
    },
    {
      "cell_type": "markdown",
      "source": [
        "#**Import Library**"
      ],
      "metadata": {
        "id": "JNBmfbIjWxgM"
      }
    },
    {
      "cell_type": "code",
      "source": [
        "#Sertakan kode dari import library yang kalian gunakan untuk tahap ini yaa, bebas mau apa aja gak harus dari praktek yang kita lakukan di lab\n",
        "import seaborn as sns\n",
        "import matplotlib.pyplot as plt\n",
        "import plotly.express as px\n",
        "import pandas as pd\n",
        "import numpy as np"
      ],
      "metadata": {
        "id": "JsnHJGLtW06a"
      },
      "execution_count": null,
      "outputs": []
    },
    {
      "cell_type": "markdown",
      "source": [
        "#**BUSINESS UNDERSTANDING**"
      ],
      "metadata": {
        "id": "NjuQhrNyZtm3"
      }
    },
    {
      "cell_type": "markdown",
      "source": [
        "##**Business Objective**"
      ],
      "metadata": {
        "id": "qzSZy2KwZ4zx"
      }
    },
    {
      "cell_type": "markdown",
      "source": [
        "Tujuan utama dari proyek ini adalah untuk mendorong keputusan bisnis yang terinformasi dan cerdas dalam industri persewaan mobil, termasuk dinamika pasar seperti popularitas kendaraan, harga sewa tipikal, potensi kesenjangan dan kejenuhan pasar.\n",
        " Kami fokus pada analisis data yang dikumpulkan secara independen untuk memahami  di berbagai kota besar di Amerika."
      ],
      "metadata": {
        "id": "hU2-bH_KZ8Ge"
      }
    },
    {
      "cell_type": "markdown",
      "source": [
        "##**Assess Situation**"
      ],
      "metadata": {
        "id": "3dTYY-qjZ_Yz"
      }
    },
    {
      "cell_type": "markdown",
      "source": [
        "Situasi yang dinilai mencakup proses pengumpulan data yang dilakukan pada bulan Juli 2020 yang mencakup penambangan web dari berbagai sumber online di kota-kota besar di AS (Amerika Serikat).  Metode ini menggunakan skrip scraping yang dikembangkan berdasarkan masukan dari komunitas StackOverflow dan memberikan pendekatan  kreatif dan teknis untuk mengatasi tantangan pengumpulan data  skala besar."
      ],
      "metadata": {
        "id": "3mI7ZTjDaGnC"
      }
    },
    {
      "cell_type": "markdown",
      "source": [
        "##**Data Mining Goals**"
      ],
      "metadata": {
        "id": "Tqvpt5r-aJKs"
      }
    },
    {
      "cell_type": "markdown",
      "source": [
        "Tujuan utama dari penggalian data ini adalah untuk mengidentifikasi pola dan tren yang relevan dalam industri persewaan mobil, termasuk mengidentifikasi merek dan model mobil  paling populer di setiap kota, menganalisis harga sewa pada umumnya, dan menilai potensi kejenuhan dan kesenjangan pasar itu bisa dieksploitasi.\n",
        "Selain itu, proyek ini juga akan menyelidiki hubungan antara peringkat yang diberikan oleh pengguna di situs persewaan mobil  dan persepsi keandalan serta konsistensi nilai peringkat yang tinggi."
      ],
      "metadata": {
        "id": "GXsyNC0zaO-o"
      }
    },
    {
      "cell_type": "markdown",
      "source": [
        "##**Project Plan**"
      ],
      "metadata": {
        "id": "78Yvo7Q9aRTt"
      }
    },
    {
      "cell_type": "markdown",
      "source": [
        "Rencana proyek  mencakup langkah-langkah sistematis mulai dari pengumpulan data menggunakan skrip scraping yang dikembangkan hingga pembersihan dan pemrosesan data untuk memastikan kualitas dan konsistensi data yang dihasilkan.\n",
        " Analisis data kemudian dilakukan dengan menggunakan berbagai metode statistik dan teknik penambangan data untuk mengidentifikasi pola dan tren yang dapat memberikan wawasan berharga bagi bisnis .\n",
        " Hasil analisis akan diinterpretasikan secara cermat untuk mengambil keputusan strategis berdasarkan data, dengan harapan melalui pembagian kumpulan data yang dihasilkan kepada publik, akan memberikan kontribusi positif bagi industri persewaan mobil dan bermanfaat bagi masyarakat umum."
      ],
      "metadata": {
        "id": "H0uheBdyaUfH"
      }
    },
    {
      "cell_type": "markdown",
      "source": [
        "#**DATA UNDERSTANDING**"
      ],
      "metadata": {
        "id": "8yFrLpBtZXuy"
      }
    },
    {
      "cell_type": "markdown",
      "source": [
        "##**Collect Initial Data**"
      ],
      "metadata": {
        "id": "tjm5LzEuT0oe"
      }
    },
    {
      "cell_type": "markdown",
      "source": [
        "Dataset yang digunakan ini berasal dari Kaggle, sebuah platform yang terkenal di kalangan komunitas ilmiah dan analitis di seluruh dunia.\n",
        "\n",
        "Link Dataset : https://www.kaggle.com/datasets/kushleshkumar/cornell-car-rental-dataset/code, yang berisi tentang dataset mobil rental yang saya ambil dari web kaggle"
      ],
      "metadata": {
        "id": "SsIGird1UBw8"
      }
    },
    {
      "cell_type": "code",
      "execution_count": null,
      "metadata": {
        "id": "3ncBfThxSpiL",
        "colab": {
          "base_uri": "https://localhost:8080/",
          "height": 444
        },
        "outputId": "5414bef2-a9fa-4298-973a-134fae2f3563"
      },
      "outputs": [
        {
          "output_type": "execute_result",
          "data": {
            "text/plain": [
              "      fuelType  rating  renterTripsTaken  reviewCount location.city  \\\n",
              "0     ELECTRIC    5.00                13           12       Seattle   \n",
              "1     ELECTRIC    5.00                 2            1       Tijeras   \n",
              "2       HYBRID    4.92                28           24   Albuquerque   \n",
              "3     GASOLINE    5.00                21           20   Albuquerque   \n",
              "4     GASOLINE    5.00                 3            1   Albuquerque   \n",
              "...        ...     ...               ...          ...           ...   \n",
              "5846  GASOLINE    5.00                32           27      Honolulu   \n",
              "5847    HYBRID    5.00                17           16          Aiea   \n",
              "5848  GASOLINE    4.94                18           17        Kailua   \n",
              "5849  GASOLINE     NaN                 1            0       Waipahu   \n",
              "5850  GASOLINE    5.00                16           14        Kailua   \n",
              "\n",
              "     location.country  location.latitude  location.longitude location.state  \\\n",
              "0                  US          47.449107         -122.308841             WA   \n",
              "1                  US          35.111060         -106.276551             NM   \n",
              "2                  US          35.127163         -106.566681             NM   \n",
              "3                  US          35.149726         -106.711425             NM   \n",
              "4                  US          35.208659         -106.601008             NM   \n",
              "...               ...                ...                 ...            ...   \n",
              "5846               US          21.292950         -157.836856             HI   \n",
              "5847               US          21.375507         -157.914919             HI   \n",
              "5848               US          21.378719         -157.727816             HI   \n",
              "5849               US          21.376105         -158.020237             HI   \n",
              "5850               US          21.378040         -157.730000             HI   \n",
              "\n",
              "      owner.id  rate.daily vehicle.make vehicle.model vehicle.type  \\\n",
              "0     12847615         135        Tesla       Model X          suv   \n",
              "1     15621242         190        Tesla       Model X          suv   \n",
              "2     10199256          35       Toyota         Prius          car   \n",
              "3      9365496          75         Ford       Mustang          car   \n",
              "4      3553565          47     Chrysler       Sebring          car   \n",
              "...        ...         ...          ...           ...          ...   \n",
              "5846   9794111          33    Chevrolet         Cruze          car   \n",
              "5847   2754690          49        Lexus       HS 250h          car   \n",
              "5848  11313508          35        smart        fortwo          car   \n",
              "5849   4209883          77          GMC        Savana          van   \n",
              "5850  11313508          35        smart        fortwo          car   \n",
              "\n",
              "      vehicle.year  \n",
              "0             2019  \n",
              "1             2018  \n",
              "2             2012  \n",
              "3             2018  \n",
              "4             2010  \n",
              "...            ...  \n",
              "5846          2017  \n",
              "5847          2010  \n",
              "5848          2013  \n",
              "5849          2015  \n",
              "5850          2013  \n",
              "\n",
              "[5851 rows x 15 columns]"
            ],
            "text/html": [
              "\n",
              "  <div id=\"df-efdd072a-02b7-4573-89bb-ae4187e6b670\" class=\"colab-df-container\">\n",
              "    <div>\n",
              "<style scoped>\n",
              "    .dataframe tbody tr th:only-of-type {\n",
              "        vertical-align: middle;\n",
              "    }\n",
              "\n",
              "    .dataframe tbody tr th {\n",
              "        vertical-align: top;\n",
              "    }\n",
              "\n",
              "    .dataframe thead th {\n",
              "        text-align: right;\n",
              "    }\n",
              "</style>\n",
              "<table border=\"1\" class=\"dataframe\">\n",
              "  <thead>\n",
              "    <tr style=\"text-align: right;\">\n",
              "      <th></th>\n",
              "      <th>fuelType</th>\n",
              "      <th>rating</th>\n",
              "      <th>renterTripsTaken</th>\n",
              "      <th>reviewCount</th>\n",
              "      <th>location.city</th>\n",
              "      <th>location.country</th>\n",
              "      <th>location.latitude</th>\n",
              "      <th>location.longitude</th>\n",
              "      <th>location.state</th>\n",
              "      <th>owner.id</th>\n",
              "      <th>rate.daily</th>\n",
              "      <th>vehicle.make</th>\n",
              "      <th>vehicle.model</th>\n",
              "      <th>vehicle.type</th>\n",
              "      <th>vehicle.year</th>\n",
              "    </tr>\n",
              "  </thead>\n",
              "  <tbody>\n",
              "    <tr>\n",
              "      <th>0</th>\n",
              "      <td>ELECTRIC</td>\n",
              "      <td>5.00</td>\n",
              "      <td>13</td>\n",
              "      <td>12</td>\n",
              "      <td>Seattle</td>\n",
              "      <td>US</td>\n",
              "      <td>47.449107</td>\n",
              "      <td>-122.308841</td>\n",
              "      <td>WA</td>\n",
              "      <td>12847615</td>\n",
              "      <td>135</td>\n",
              "      <td>Tesla</td>\n",
              "      <td>Model X</td>\n",
              "      <td>suv</td>\n",
              "      <td>2019</td>\n",
              "    </tr>\n",
              "    <tr>\n",
              "      <th>1</th>\n",
              "      <td>ELECTRIC</td>\n",
              "      <td>5.00</td>\n",
              "      <td>2</td>\n",
              "      <td>1</td>\n",
              "      <td>Tijeras</td>\n",
              "      <td>US</td>\n",
              "      <td>35.111060</td>\n",
              "      <td>-106.276551</td>\n",
              "      <td>NM</td>\n",
              "      <td>15621242</td>\n",
              "      <td>190</td>\n",
              "      <td>Tesla</td>\n",
              "      <td>Model X</td>\n",
              "      <td>suv</td>\n",
              "      <td>2018</td>\n",
              "    </tr>\n",
              "    <tr>\n",
              "      <th>2</th>\n",
              "      <td>HYBRID</td>\n",
              "      <td>4.92</td>\n",
              "      <td>28</td>\n",
              "      <td>24</td>\n",
              "      <td>Albuquerque</td>\n",
              "      <td>US</td>\n",
              "      <td>35.127163</td>\n",
              "      <td>-106.566681</td>\n",
              "      <td>NM</td>\n",
              "      <td>10199256</td>\n",
              "      <td>35</td>\n",
              "      <td>Toyota</td>\n",
              "      <td>Prius</td>\n",
              "      <td>car</td>\n",
              "      <td>2012</td>\n",
              "    </tr>\n",
              "    <tr>\n",
              "      <th>3</th>\n",
              "      <td>GASOLINE</td>\n",
              "      <td>5.00</td>\n",
              "      <td>21</td>\n",
              "      <td>20</td>\n",
              "      <td>Albuquerque</td>\n",
              "      <td>US</td>\n",
              "      <td>35.149726</td>\n",
              "      <td>-106.711425</td>\n",
              "      <td>NM</td>\n",
              "      <td>9365496</td>\n",
              "      <td>75</td>\n",
              "      <td>Ford</td>\n",
              "      <td>Mustang</td>\n",
              "      <td>car</td>\n",
              "      <td>2018</td>\n",
              "    </tr>\n",
              "    <tr>\n",
              "      <th>4</th>\n",
              "      <td>GASOLINE</td>\n",
              "      <td>5.00</td>\n",
              "      <td>3</td>\n",
              "      <td>1</td>\n",
              "      <td>Albuquerque</td>\n",
              "      <td>US</td>\n",
              "      <td>35.208659</td>\n",
              "      <td>-106.601008</td>\n",
              "      <td>NM</td>\n",
              "      <td>3553565</td>\n",
              "      <td>47</td>\n",
              "      <td>Chrysler</td>\n",
              "      <td>Sebring</td>\n",
              "      <td>car</td>\n",
              "      <td>2010</td>\n",
              "    </tr>\n",
              "    <tr>\n",
              "      <th>...</th>\n",
              "      <td>...</td>\n",
              "      <td>...</td>\n",
              "      <td>...</td>\n",
              "      <td>...</td>\n",
              "      <td>...</td>\n",
              "      <td>...</td>\n",
              "      <td>...</td>\n",
              "      <td>...</td>\n",
              "      <td>...</td>\n",
              "      <td>...</td>\n",
              "      <td>...</td>\n",
              "      <td>...</td>\n",
              "      <td>...</td>\n",
              "      <td>...</td>\n",
              "      <td>...</td>\n",
              "    </tr>\n",
              "    <tr>\n",
              "      <th>5846</th>\n",
              "      <td>GASOLINE</td>\n",
              "      <td>5.00</td>\n",
              "      <td>32</td>\n",
              "      <td>27</td>\n",
              "      <td>Honolulu</td>\n",
              "      <td>US</td>\n",
              "      <td>21.292950</td>\n",
              "      <td>-157.836856</td>\n",
              "      <td>HI</td>\n",
              "      <td>9794111</td>\n",
              "      <td>33</td>\n",
              "      <td>Chevrolet</td>\n",
              "      <td>Cruze</td>\n",
              "      <td>car</td>\n",
              "      <td>2017</td>\n",
              "    </tr>\n",
              "    <tr>\n",
              "      <th>5847</th>\n",
              "      <td>HYBRID</td>\n",
              "      <td>5.00</td>\n",
              "      <td>17</td>\n",
              "      <td>16</td>\n",
              "      <td>Aiea</td>\n",
              "      <td>US</td>\n",
              "      <td>21.375507</td>\n",
              "      <td>-157.914919</td>\n",
              "      <td>HI</td>\n",
              "      <td>2754690</td>\n",
              "      <td>49</td>\n",
              "      <td>Lexus</td>\n",
              "      <td>HS 250h</td>\n",
              "      <td>car</td>\n",
              "      <td>2010</td>\n",
              "    </tr>\n",
              "    <tr>\n",
              "      <th>5848</th>\n",
              "      <td>GASOLINE</td>\n",
              "      <td>4.94</td>\n",
              "      <td>18</td>\n",
              "      <td>17</td>\n",
              "      <td>Kailua</td>\n",
              "      <td>US</td>\n",
              "      <td>21.378719</td>\n",
              "      <td>-157.727816</td>\n",
              "      <td>HI</td>\n",
              "      <td>11313508</td>\n",
              "      <td>35</td>\n",
              "      <td>smart</td>\n",
              "      <td>fortwo</td>\n",
              "      <td>car</td>\n",
              "      <td>2013</td>\n",
              "    </tr>\n",
              "    <tr>\n",
              "      <th>5849</th>\n",
              "      <td>GASOLINE</td>\n",
              "      <td>NaN</td>\n",
              "      <td>1</td>\n",
              "      <td>0</td>\n",
              "      <td>Waipahu</td>\n",
              "      <td>US</td>\n",
              "      <td>21.376105</td>\n",
              "      <td>-158.020237</td>\n",
              "      <td>HI</td>\n",
              "      <td>4209883</td>\n",
              "      <td>77</td>\n",
              "      <td>GMC</td>\n",
              "      <td>Savana</td>\n",
              "      <td>van</td>\n",
              "      <td>2015</td>\n",
              "    </tr>\n",
              "    <tr>\n",
              "      <th>5850</th>\n",
              "      <td>GASOLINE</td>\n",
              "      <td>5.00</td>\n",
              "      <td>16</td>\n",
              "      <td>14</td>\n",
              "      <td>Kailua</td>\n",
              "      <td>US</td>\n",
              "      <td>21.378040</td>\n",
              "      <td>-157.730000</td>\n",
              "      <td>HI</td>\n",
              "      <td>11313508</td>\n",
              "      <td>35</td>\n",
              "      <td>smart</td>\n",
              "      <td>fortwo</td>\n",
              "      <td>car</td>\n",
              "      <td>2013</td>\n",
              "    </tr>\n",
              "  </tbody>\n",
              "</table>\n",
              "<p>5851 rows × 15 columns</p>\n",
              "</div>\n",
              "    <div class=\"colab-df-buttons\">\n",
              "\n",
              "  <div class=\"colab-df-container\">\n",
              "    <button class=\"colab-df-convert\" onclick=\"convertToInteractive('df-efdd072a-02b7-4573-89bb-ae4187e6b670')\"\n",
              "            title=\"Convert this dataframe to an interactive table.\"\n",
              "            style=\"display:none;\">\n",
              "\n",
              "  <svg xmlns=\"http://www.w3.org/2000/svg\" height=\"24px\" viewBox=\"0 -960 960 960\">\n",
              "    <path d=\"M120-120v-720h720v720H120Zm60-500h600v-160H180v160Zm220 220h160v-160H400v160Zm0 220h160v-160H400v160ZM180-400h160v-160H180v160Zm440 0h160v-160H620v160ZM180-180h160v-160H180v160Zm440 0h160v-160H620v160Z\"/>\n",
              "  </svg>\n",
              "    </button>\n",
              "\n",
              "  <style>\n",
              "    .colab-df-container {\n",
              "      display:flex;\n",
              "      gap: 12px;\n",
              "    }\n",
              "\n",
              "    .colab-df-convert {\n",
              "      background-color: #E8F0FE;\n",
              "      border: none;\n",
              "      border-radius: 50%;\n",
              "      cursor: pointer;\n",
              "      display: none;\n",
              "      fill: #1967D2;\n",
              "      height: 32px;\n",
              "      padding: 0 0 0 0;\n",
              "      width: 32px;\n",
              "    }\n",
              "\n",
              "    .colab-df-convert:hover {\n",
              "      background-color: #E2EBFA;\n",
              "      box-shadow: 0px 1px 2px rgba(60, 64, 67, 0.3), 0px 1px 3px 1px rgba(60, 64, 67, 0.15);\n",
              "      fill: #174EA6;\n",
              "    }\n",
              "\n",
              "    .colab-df-buttons div {\n",
              "      margin-bottom: 4px;\n",
              "    }\n",
              "\n",
              "    [theme=dark] .colab-df-convert {\n",
              "      background-color: #3B4455;\n",
              "      fill: #D2E3FC;\n",
              "    }\n",
              "\n",
              "    [theme=dark] .colab-df-convert:hover {\n",
              "      background-color: #434B5C;\n",
              "      box-shadow: 0px 1px 3px 1px rgba(0, 0, 0, 0.15);\n",
              "      filter: drop-shadow(0px 1px 2px rgba(0, 0, 0, 0.3));\n",
              "      fill: #FFFFFF;\n",
              "    }\n",
              "  </style>\n",
              "\n",
              "    <script>\n",
              "      const buttonEl =\n",
              "        document.querySelector('#df-efdd072a-02b7-4573-89bb-ae4187e6b670 button.colab-df-convert');\n",
              "      buttonEl.style.display =\n",
              "        google.colab.kernel.accessAllowed ? 'block' : 'none';\n",
              "\n",
              "      async function convertToInteractive(key) {\n",
              "        const element = document.querySelector('#df-efdd072a-02b7-4573-89bb-ae4187e6b670');\n",
              "        const dataTable =\n",
              "          await google.colab.kernel.invokeFunction('convertToInteractive',\n",
              "                                                    [key], {});\n",
              "        if (!dataTable) return;\n",
              "\n",
              "        const docLinkHtml = 'Like what you see? Visit the ' +\n",
              "          '<a target=\"_blank\" href=https://colab.research.google.com/notebooks/data_table.ipynb>data table notebook</a>'\n",
              "          + ' to learn more about interactive tables.';\n",
              "        element.innerHTML = '';\n",
              "        dataTable['output_type'] = 'display_data';\n",
              "        await google.colab.output.renderOutput(dataTable, element);\n",
              "        const docLink = document.createElement('div');\n",
              "        docLink.innerHTML = docLinkHtml;\n",
              "        element.appendChild(docLink);\n",
              "      }\n",
              "    </script>\n",
              "  </div>\n",
              "\n",
              "\n",
              "<div id=\"df-73b5892f-d335-4ded-8e47-233fd876fea1\">\n",
              "  <button class=\"colab-df-quickchart\" onclick=\"quickchart('df-73b5892f-d335-4ded-8e47-233fd876fea1')\"\n",
              "            title=\"Suggest charts\"\n",
              "            style=\"display:none;\">\n",
              "\n",
              "<svg xmlns=\"http://www.w3.org/2000/svg\" height=\"24px\"viewBox=\"0 0 24 24\"\n",
              "     width=\"24px\">\n",
              "    <g>\n",
              "        <path d=\"M19 3H5c-1.1 0-2 .9-2 2v14c0 1.1.9 2 2 2h14c1.1 0 2-.9 2-2V5c0-1.1-.9-2-2-2zM9 17H7v-7h2v7zm4 0h-2V7h2v10zm4 0h-2v-4h2v4z\"/>\n",
              "    </g>\n",
              "</svg>\n",
              "  </button>\n",
              "\n",
              "<style>\n",
              "  .colab-df-quickchart {\n",
              "      --bg-color: #E8F0FE;\n",
              "      --fill-color: #1967D2;\n",
              "      --hover-bg-color: #E2EBFA;\n",
              "      --hover-fill-color: #174EA6;\n",
              "      --disabled-fill-color: #AAA;\n",
              "      --disabled-bg-color: #DDD;\n",
              "  }\n",
              "\n",
              "  [theme=dark] .colab-df-quickchart {\n",
              "      --bg-color: #3B4455;\n",
              "      --fill-color: #D2E3FC;\n",
              "      --hover-bg-color: #434B5C;\n",
              "      --hover-fill-color: #FFFFFF;\n",
              "      --disabled-bg-color: #3B4455;\n",
              "      --disabled-fill-color: #666;\n",
              "  }\n",
              "\n",
              "  .colab-df-quickchart {\n",
              "    background-color: var(--bg-color);\n",
              "    border: none;\n",
              "    border-radius: 50%;\n",
              "    cursor: pointer;\n",
              "    display: none;\n",
              "    fill: var(--fill-color);\n",
              "    height: 32px;\n",
              "    padding: 0;\n",
              "    width: 32px;\n",
              "  }\n",
              "\n",
              "  .colab-df-quickchart:hover {\n",
              "    background-color: var(--hover-bg-color);\n",
              "    box-shadow: 0 1px 2px rgba(60, 64, 67, 0.3), 0 1px 3px 1px rgba(60, 64, 67, 0.15);\n",
              "    fill: var(--button-hover-fill-color);\n",
              "  }\n",
              "\n",
              "  .colab-df-quickchart-complete:disabled,\n",
              "  .colab-df-quickchart-complete:disabled:hover {\n",
              "    background-color: var(--disabled-bg-color);\n",
              "    fill: var(--disabled-fill-color);\n",
              "    box-shadow: none;\n",
              "  }\n",
              "\n",
              "  .colab-df-spinner {\n",
              "    border: 2px solid var(--fill-color);\n",
              "    border-color: transparent;\n",
              "    border-bottom-color: var(--fill-color);\n",
              "    animation:\n",
              "      spin 1s steps(1) infinite;\n",
              "  }\n",
              "\n",
              "  @keyframes spin {\n",
              "    0% {\n",
              "      border-color: transparent;\n",
              "      border-bottom-color: var(--fill-color);\n",
              "      border-left-color: var(--fill-color);\n",
              "    }\n",
              "    20% {\n",
              "      border-color: transparent;\n",
              "      border-left-color: var(--fill-color);\n",
              "      border-top-color: var(--fill-color);\n",
              "    }\n",
              "    30% {\n",
              "      border-color: transparent;\n",
              "      border-left-color: var(--fill-color);\n",
              "      border-top-color: var(--fill-color);\n",
              "      border-right-color: var(--fill-color);\n",
              "    }\n",
              "    40% {\n",
              "      border-color: transparent;\n",
              "      border-right-color: var(--fill-color);\n",
              "      border-top-color: var(--fill-color);\n",
              "    }\n",
              "    60% {\n",
              "      border-color: transparent;\n",
              "      border-right-color: var(--fill-color);\n",
              "    }\n",
              "    80% {\n",
              "      border-color: transparent;\n",
              "      border-right-color: var(--fill-color);\n",
              "      border-bottom-color: var(--fill-color);\n",
              "    }\n",
              "    90% {\n",
              "      border-color: transparent;\n",
              "      border-bottom-color: var(--fill-color);\n",
              "    }\n",
              "  }\n",
              "</style>\n",
              "\n",
              "  <script>\n",
              "    async function quickchart(key) {\n",
              "      const quickchartButtonEl =\n",
              "        document.querySelector('#' + key + ' button');\n",
              "      quickchartButtonEl.disabled = true;  // To prevent multiple clicks.\n",
              "      quickchartButtonEl.classList.add('colab-df-spinner');\n",
              "      try {\n",
              "        const charts = await google.colab.kernel.invokeFunction(\n",
              "            'suggestCharts', [key], {});\n",
              "      } catch (error) {\n",
              "        console.error('Error during call to suggestCharts:', error);\n",
              "      }\n",
              "      quickchartButtonEl.classList.remove('colab-df-spinner');\n",
              "      quickchartButtonEl.classList.add('colab-df-quickchart-complete');\n",
              "    }\n",
              "    (() => {\n",
              "      let quickchartButtonEl =\n",
              "        document.querySelector('#df-73b5892f-d335-4ded-8e47-233fd876fea1 button');\n",
              "      quickchartButtonEl.style.display =\n",
              "        google.colab.kernel.accessAllowed ? 'block' : 'none';\n",
              "    })();\n",
              "  </script>\n",
              "</div>\n",
              "    </div>\n",
              "  </div>\n"
            ],
            "application/vnd.google.colaboratory.intrinsic+json": {
              "type": "dataframe",
              "variable_name": "df_file",
              "summary": "{\n  \"name\": \"df_file\",\n  \"rows\": 5851,\n  \"fields\": [\n    {\n      \"column\": \"fuelType\",\n      \"properties\": {\n        \"dtype\": \"category\",\n        \"num_unique_values\": 4,\n        \"samples\": [\n          \"HYBRID\",\n          \"DIESEL\",\n          \"ELECTRIC\"\n        ],\n        \"semantic_type\": \"\",\n        \"description\": \"\"\n      }\n    },\n    {\n      \"column\": \"rating\",\n      \"properties\": {\n        \"dtype\": \"number\",\n        \"std\": 0.18242525703752777,\n        \"min\": 1.0,\n        \"max\": 5.0,\n        \"num_unique_values\": 80,\n        \"samples\": [\n          4.51,\n          5.0,\n          4.99\n        ],\n        \"semantic_type\": \"\",\n        \"description\": \"\"\n      }\n    },\n    {\n      \"column\": \"renterTripsTaken\",\n      \"properties\": {\n        \"dtype\": \"number\",\n        \"std\": 41,\n        \"min\": 0,\n        \"max\": 395,\n        \"num_unique_values\": 238,\n        \"samples\": [\n          172,\n          4,\n          162\n        ],\n        \"semantic_type\": \"\",\n        \"description\": \"\"\n      }\n    },\n    {\n      \"column\": \"reviewCount\",\n      \"properties\": {\n        \"dtype\": \"number\",\n        \"std\": 35,\n        \"min\": 0,\n        \"max\": 321,\n        \"num_unique_values\": 203,\n        \"samples\": [\n          18,\n          56,\n          108\n        ],\n        \"semantic_type\": \"\",\n        \"description\": \"\"\n      }\n    },\n    {\n      \"column\": \"location.city\",\n      \"properties\": {\n        \"dtype\": \"category\",\n        \"num_unique_values\": 971,\n        \"samples\": [\n          \"North Royalton\",\n          \"Los Gatos\",\n          \"Cromwell\"\n        ],\n        \"semantic_type\": \"\",\n        \"description\": \"\"\n      }\n    },\n    {\n      \"column\": \"location.country\",\n      \"properties\": {\n        \"dtype\": \"category\",\n        \"num_unique_values\": 1,\n        \"samples\": [\n          \"US\"\n        ],\n        \"semantic_type\": \"\",\n        \"description\": \"\"\n      }\n    },\n    {\n      \"column\": \"location.latitude\",\n      \"properties\": {\n        \"dtype\": \"number\",\n        \"std\": 6.431408483050628,\n        \"min\": 21.272565,\n        \"max\": 64.89361,\n        \"num_unique_values\": 5839,\n        \"samples\": [\n          47.147336\n        ],\n        \"semantic_type\": \"\",\n        \"description\": \"\"\n      }\n    },\n    {\n      \"column\": \"location.longitude\",\n      \"properties\": {\n        \"dtype\": \"number\",\n        \"std\": 20.391476326143042,\n        \"min\": -158.165693,\n        \"max\": -68.823637,\n        \"num_unique_values\": 5834,\n        \"samples\": [\n          -87.753159\n        ],\n        \"semantic_type\": \"\",\n        \"description\": \"\"\n      }\n    },\n    {\n      \"column\": \"location.state\",\n      \"properties\": {\n        \"dtype\": \"category\",\n        \"num_unique_values\": 46,\n        \"samples\": [\n          \"PA\"\n        ],\n        \"semantic_type\": \"\",\n        \"description\": \"\"\n      }\n    },\n    {\n      \"column\": \"owner.id\",\n      \"properties\": {\n        \"dtype\": \"number\",\n        \"std\": 4646021,\n        \"min\": 5105,\n        \"max\": 15810882,\n        \"num_unique_values\": 3093,\n        \"samples\": [\n          254719\n        ],\n        \"semantic_type\": \"\",\n        \"description\": \"\"\n      }\n    },\n    {\n      \"column\": \"rate.daily\",\n      \"properties\": {\n        \"dtype\": \"number\",\n        \"std\": 96,\n        \"min\": 20,\n        \"max\": 1500,\n        \"num_unique_values\": 294,\n        \"samples\": [\n          98\n        ],\n        \"semantic_type\": \"\",\n        \"description\": \"\"\n      }\n    },\n    {\n      \"column\": \"vehicle.make\",\n      \"properties\": {\n        \"dtype\": \"category\",\n        \"num_unique_values\": 54,\n        \"samples\": [\n          \"BMW\"\n        ],\n        \"semantic_type\": \"\",\n        \"description\": \"\"\n      }\n    },\n    {\n      \"column\": \"vehicle.model\",\n      \"properties\": {\n        \"dtype\": \"category\",\n        \"num_unique_values\": 526,\n        \"samples\": [\n          \"6\"\n        ],\n        \"semantic_type\": \"\",\n        \"description\": \"\"\n      }\n    },\n    {\n      \"column\": \"vehicle.type\",\n      \"properties\": {\n        \"dtype\": \"category\",\n        \"num_unique_values\": 5,\n        \"samples\": [\n          \"car\"\n        ],\n        \"semantic_type\": \"\",\n        \"description\": \"\"\n      }\n    },\n    {\n      \"column\": \"vehicle.year\",\n      \"properties\": {\n        \"dtype\": \"number\",\n        \"std\": 4,\n        \"min\": 1955,\n        \"max\": 2020,\n        \"num_unique_values\": 34,\n        \"samples\": [\n          2006\n        ],\n        \"semantic_type\": \"\",\n        \"description\": \"\"\n      }\n    }\n  ]\n}"
            }
          },
          "metadata": {},
          "execution_count": 5
        }
      ],
      "source": [
        "df_file = pd.read_csv('CarRentalData.csv') #masukin data kalian di sini\n",
        "df_file"
      ]
    },
    {
      "cell_type": "markdown",
      "source": [
        "##**Describe Data**"
      ],
      "metadata": {
        "id": "-hy6_uvIVOGH"
      }
    },
    {
      "cell_type": "markdown",
      "source": [
        "####Informasi Dasar"
      ],
      "metadata": {
        "id": "nl6nccPmUZ6F"
      }
    },
    {
      "cell_type": "code",
      "source": [
        "print(\"Baris: \", df_file.shape[0])\n",
        "print(\"Kolom: \", df_file.shape[1])#Ketikan kode di sini, untuk menampilkan jumlah baris dan kolom yang ada pada dataset kalian"
      ],
      "metadata": {
        "id": "zEyDvT0EUcB2",
        "colab": {
          "base_uri": "https://localhost:8080/"
        },
        "outputId": "272758c5-d291-43e8-d8ca-bbcff23e5940"
      },
      "execution_count": null,
      "outputs": [
        {
          "output_type": "stream",
          "name": "stdout",
          "text": [
            "Baris:  5851\n",
            "Kolom:  15\n"
          ]
        }
      ]
    },
    {
      "cell_type": "markdown",
      "source": [
        "Query di atas adalah perintah dalam bahasa pemrograman Python yang digunakan untuk mencetak jumlah baris dan kolom dari dataframe yang saya simpan dalam variabel `df_file`.\n",
        "\n",
        "1. `df_file.shape[0]` mengembalikan jumlah baris dari dataframe `df_file`.\n",
        "2. `df_file.shape[1]` mengembalikan jumlah kolom dari dataframe `df_file`.\n",
        "\n",
        "Hasil cetak dari perintah di atas akan menampilkan jumlah baris dan kolom dari dataframe `df_file`. Dengan demikian, `Baris: 5851` diikuti oleh jumlah baris dan `Kolom: 15` diikuti oleh jumlah kolom."
      ],
      "metadata": {
        "id": "ZwH62IRTVXNL"
      }
    },
    {
      "cell_type": "code",
      "source": [
        "df_file.columns"
      ],
      "metadata": {
        "colab": {
          "base_uri": "https://localhost:8080/"
        },
        "id": "HGr6fw-gCbqA",
        "outputId": "96b40a07-b09f-4c63-c7c6-5354ec5b20a5"
      },
      "execution_count": null,
      "outputs": [
        {
          "output_type": "execute_result",
          "data": {
            "text/plain": [
              "Index(['fuelType', 'rating', 'renterTripsTaken', 'reviewCount',\n",
              "       'location.city', 'location.country', 'location.latitude',\n",
              "       'location.longitude', 'location.state', 'owner.id', 'rate.daily',\n",
              "       'vehicle.make', 'vehicle.model', 'vehicle.type', 'vehicle.year'],\n",
              "      dtype='object')"
            ]
          },
          "metadata": {},
          "execution_count": 11
        }
      ]
    },
    {
      "cell_type": "markdown",
      "source": [
        "df.columns = digunakan untuk mengakses nama-nama kolom dari DataFrame. Ini memberikan kumpulan nama-nama kolom dalam bentuk Index.\n",
        "\n",
        "1. **fuelType**: Kolom ini berisi jenis bahan bakar yang digunakan oleh kendaraan atau objek yang terkait dalam dataset.\n",
        "   \n",
        "2. **rating**: Kolom ini berisi rating untuk suatu objek atau layanan dalam dataset. Rating ini bisa dalam bentuk numerik, biasanya dari skala tertentu.\n",
        "\n",
        "3. **renterTripsTaken**: Kolom ini berisi jumlah perjalanan yang telah diambil oleh penyewa terkait dengan objek atau layanan dalam dataset.\n",
        "\n",
        "4. **reviewCount**: Kolom ini berisi jumlah ulasan yang diberikan oleh pengguna atau pelanggan untuk suatu objek atau layanan dalam dataset.\n",
        "\n",
        "5. **location.city**: Kolom ini berisi nama kota tempat objek atau layanan berada.\n",
        "\n",
        "6. **location.country**: Kolom ini berisi nama negara tempat objek atau layanan berada.\n",
        "\n",
        "7. **location.latitude**: Kolom ini berisi nilai koordinat lintang dari lokasi suatu objek atau layanan.\n",
        "\n",
        "8. **location.longitude**: Kolom ini berisi nilai koordinat bujur dari lokasi suatu objek atau layanan.\n",
        "\n",
        "9. **location.state**: Kolom ini berisi nama negara bagian atau provinsi tempat objek atau layanan berada.\n",
        "\n",
        "10. **owner.id**: Kolom ini berisi ID dari pemilik suatu objek atau layanan.\n",
        "\n",
        "11. **rate.daily**: Kolom ini berisi tarif harian untuk suatu objek atau layanan yang ditawarkan.\n",
        "\n",
        "12. **vehicle.make**: Kolom ini berisi merek kendaraan yang terkait dalam dataset.\n",
        "\n",
        "13. **vehicle.model**: Kolom ini berisi model kendaraan yang terkait dalam dataset.\n",
        "\n",
        "14. **vehicle.type**: Kolom ini berisi jenis kendaraan, seperti \"sedan\", \"SUV\", \"truk\", dll.\n",
        "\n",
        "15. **vehicle.year**: Kolom ini berisi tahun pembuatan kendaraan yang terkait dalam dataset."
      ],
      "metadata": {
        "id": "XV9x8bGyCrQj"
      }
    },
    {
      "cell_type": "code",
      "source": [
        "df_file.dtypes"
      ],
      "metadata": {
        "colab": {
          "base_uri": "https://localhost:8080/"
        },
        "id": "i3TpJm0OBkr6",
        "outputId": "f511ac87-b6a9-4897-d78f-8921dc0fa4e1"
      },
      "execution_count": null,
      "outputs": [
        {
          "output_type": "execute_result",
          "data": {
            "text/plain": [
              "fuelType               object\n",
              "rating                float64\n",
              "renterTripsTaken        int64\n",
              "reviewCount             int64\n",
              "location.city          object\n",
              "location.country       object\n",
              "location.latitude     float64\n",
              "location.longitude    float64\n",
              "location.state         object\n",
              "owner.id                int64\n",
              "rate.daily              int64\n",
              "vehicle.make           object\n",
              "vehicle.model          object\n",
              "vehicle.type           object\n",
              "vehicle.year            int64\n",
              "dtype: object"
            ]
          },
          "metadata": {},
          "execution_count": 8
        }
      ]
    },
    {
      "cell_type": "markdown",
      "source": [
        "dtypes = digunakan untuk memeriksa tipe data dari setiap kolom dalam DataFrame. Hal ini penting karena tipe data yang berbeda bisa mempengaruhi bagaimana operasi dan manipulasi data dilakukan.\n",
        "\n",
        "1. **fuelType** (object): Variabel ini berisi jenis bahan bakar yang digunakan oleh kendaraan. Tipe data `object` menunjukkan bahwa nilai-nilai dalam kolom ini adalah teks atau string.\n",
        "\n",
        "2. **rating** (float64): Variabel ini berisi rating dari suatu objek atau entitas. Tipe data `float64` menunjukkan bahwa nilai-nilai dalam kolom ini adalah angka desimal.\n",
        "\n",
        "3. **renterTripsTaken** (int64): Variabel ini berisi jumlah perjalanan yang telah diambil oleh penyewa. Tipe data `int64` menunjukkan bahwa nilai-nilai dalam kolom ini adalah bilangan bulat.\n",
        "\n",
        "4. **reviewCount** (int64): Variabel ini berisi jumlah ulasan yang diberikan oleh pengguna atau pelanggan. Tipe data `int64` menunjukkan bahwa nilai-nilai dalam kolom ini adalah bilangan bulat.\n",
        "\n",
        "5. **location.city** (object): Variabel ini berisi nama kota tempat suatu objek atau entitas berada. Tipe data `object` menunjukkan bahwa nilai-nilai dalam kolom ini adalah teks atau string.\n",
        "\n",
        "6. **location.country** (object): Variabel ini berisi nama negara tempat suatu objek atau entitas berada. Tipe data `object` menunjukkan bahwa nilai-nilai dalam kolom ini adalah teks atau string.\n",
        "\n",
        "7. **location.latitude** (float64): Variabel ini berisi koordinat lintang dari lokasi suatu objek atau entitas. Tipe data `float64` menunjukkan bahwa nilai-nilai dalam kolom ini adalah angka desimal.\n",
        "\n",
        "8. **location.longitude** (float64): Variabel ini berisi koordinat bujur dari lokasi suatu objek atau entitas. Tipe data `float64` menunjukkan bahwa nilai-nilai dalam kolom ini adalah angka desimal.\n",
        "\n",
        "9. **location.state** (object): Variabel ini berisi nama negara bagian atau provinsi tempat suatu objek atau entitas berada. Tipe data `object` menunjukkan bahwa nilai-nilai dalam kolom ini adalah teks atau string.\n",
        "\n",
        "10. **owner.id** (int64): Variabel ini berisi ID dari pemilik suatu objek atau entitas. Tipe data `int64` menunjukkan bahwa nilai-nilai dalam kolom ini adalah bilangan bulat.\n",
        "\n",
        "11. **rate.daily** (int64): Variabel ini berisi tarif harian untuk suatu objek atau layanan yang ditawarkan. Tipe data `int64` menunjukkan bahwa nilai-nilai dalam kolom ini adalah bilangan bulat.\n",
        "\n",
        "12. **vehicle.make** (object): Variabel ini berisi merek dari kendaraan yang terkait dengan data tersebut. Tipe data `object` menunjukkan bahwa nilai-nilai dalam kolom ini adalah teks atau string.\n",
        "\n",
        "13. **vehicle.model** (object): Variabel ini berisi model kendaraan yang terkait dengan data tersebut. Tipe data `object` menunjukkan bahwa nilai-nilai dalam kolom ini adalah teks atau string.\n",
        "\n",
        "14. **vehicle.type** (object): Variabel ini berisi jenis kendaraan, seperti \"sedan\", \"SUV\", \"truk\", dll. Tipe data `object` menunjukkan bahwa nilai-nilai dalam kolom ini adalah teks atau string.\n",
        "\n",
        "15. **vehicle.year** (int64): Variabel ini berisi tahun pembuatan kendaraan. Tipe data `int64` menunjukkan bahwa nilai-nilai dalam kolom ini adalah bilangan bulat."
      ],
      "metadata": {
        "id": "H_gKIr59DEPM"
      }
    },
    {
      "cell_type": "markdown",
      "source": [
        "####Informasi Lanjutan"
      ],
      "metadata": {
        "id": "BXEzaPAHVMPd"
      }
    },
    {
      "cell_type": "code",
      "source": [
        "df_file.info()#Ketikan kode di sini, untuk menampilkan informasi lengkap dari dataset kalian"
      ],
      "metadata": {
        "id": "L1CvPak8VHOF",
        "colab": {
          "base_uri": "https://localhost:8080/"
        },
        "outputId": "fdc83860-b1a7-4053-df14-57ab34256384"
      },
      "execution_count": null,
      "outputs": [
        {
          "output_type": "stream",
          "name": "stdout",
          "text": [
            "<class 'pandas.core.frame.DataFrame'>\n",
            "RangeIndex: 5851 entries, 0 to 5850\n",
            "Data columns (total 15 columns):\n",
            " #   Column              Non-Null Count  Dtype  \n",
            "---  ------              --------------  -----  \n",
            " 0   fuelType            5776 non-null   object \n",
            " 1   rating              5350 non-null   float64\n",
            " 2   renterTripsTaken    5851 non-null   int64  \n",
            " 3   reviewCount         5851 non-null   int64  \n",
            " 4   location.city       5851 non-null   object \n",
            " 5   location.country    5851 non-null   object \n",
            " 6   location.latitude   5851 non-null   float64\n",
            " 7   location.longitude  5851 non-null   float64\n",
            " 8   location.state      5851 non-null   object \n",
            " 9   owner.id            5851 non-null   int64  \n",
            " 10  rate.daily          5851 non-null   int64  \n",
            " 11  vehicle.make        5851 non-null   object \n",
            " 12  vehicle.model       5851 non-null   object \n",
            " 13  vehicle.type        5851 non-null   object \n",
            " 14  vehicle.year        5851 non-null   int64  \n",
            "dtypes: float64(3), int64(5), object(7)\n",
            "memory usage: 685.8+ KB\n"
          ]
        }
      ]
    },
    {
      "cell_type": "markdown",
      "source": [
        "1. `fuelType`: Jenis bahan bakar yang digunakan oleh kendaraan. Terdapat 5776 entri non-null dalam bentuk objek (string).\n",
        "2. `rating`: Rating atau penilaian kendaraan. Terdapat 5350 entri non-null dalam bentuk float64.\n",
        "3. `renterTripsTaken`: Jumlah perjalanan yang diambil oleh penyewa. Terdapat 5851 entri dalam bentuk integer.\n",
        "4. `reviewCount`: Jumlah ulasan yang diberikan. Terdapat 5851 entri dalam bentuk integer.\n",
        "5. `location.city`: Nama kota lokasi kendaraan. Terdapat 5851 entri non-null dalam bentuk objek (string).\n",
        "6. `location.country`: Nama negara lokasi kendaraan. Terdapat 5851 entri non-null dalam bentuk objek (string).\n",
        "7. `location.latitude`: Koordinat lintang lokasi kendaraan. Terdapat 5851 entri non-null dalam bentuk float64.\n",
        "8. `location.longitude`: Koordinat bujur lokasi kendaraan. Terdapat 5851 entri non-null dalam bentuk float64.\n",
        "9. `location.state`: Nama negara bagian atau provinsi lokasi kendaraan. Terdapat 5851 entri non-null dalam bentuk objek (string).\n",
        "10. `owner.id`: ID pemilik kendaraan. Terdapat 5851 entri non-null dalam bentuk integer.\n",
        "11. `rate.daily`: Tarif sewa harian kendaraan. Terdapat 5851 entri non-null dalam bentuk integer.\n",
        "12. `vehicle.make`: Merek kendaraan. Terdapat 5851 entri non-null dalam bentuk objek (string).\n",
        "13. `vehicle.model`: Model kendaraan. Terdapat 5851 entri non-null dalam bentuk objek (string).\n",
        "14. `vehicle.type`: Jenis kendaraan (misalnya, sedan, SUV, dll.). Terdapat 5851 entri non-null dalam bentuk objek (string).\n",
        "15. `vehicle.year`: Tahun produksi kendaraan. Terdapat 5851 entri non-null dalam bentuk integer.\n"
      ],
      "metadata": {
        "id": "-6miym5GVbaC"
      }
    },
    {
      "cell_type": "markdown",
      "source": [
        "####Informasi Statistik Deskriptif"
      ],
      "metadata": {
        "id": "D5GD3qzXVrF5"
      }
    },
    {
      "cell_type": "code",
      "source": [
        "df_file.describe()#Ketikkan kode disini, untuk menampilkan hasil statistik deskriptif dari kolom numerik yang ada pada dataset kalian"
      ],
      "metadata": {
        "id": "rHdqc2OkVuPC",
        "colab": {
          "base_uri": "https://localhost:8080/",
          "height": 320
        },
        "outputId": "26c512db-f36e-42cd-d2a9-c96350a9571e"
      },
      "execution_count": null,
      "outputs": [
        {
          "output_type": "execute_result",
          "data": {
            "text/plain": [
              "            rating  renterTripsTaken  reviewCount  location.latitude  \\\n",
              "count  5350.000000       5851.000000  5851.000000        5851.000000   \n",
              "mean      4.920325         33.477354    28.454794          35.582889   \n",
              "std       0.182425         41.898954    35.136113           6.431408   \n",
              "min       1.000000          0.000000     0.000000          21.272565   \n",
              "25%       4.900000          5.000000     4.000000          30.453623   \n",
              "50%       5.000000         18.000000    16.000000          35.554502   \n",
              "75%       5.000000         46.000000    39.000000          39.996864   \n",
              "max       5.000000        395.000000   321.000000          64.893610   \n",
              "\n",
              "       location.longitude      owner.id   rate.daily  vehicle.year  \n",
              "count         5851.000000  5.851000e+03  5851.000000   5851.000000  \n",
              "mean           -99.632773  6.034830e+06    93.691506   2015.340113  \n",
              "std             20.391476  4.646022e+06    96.080920      4.050813  \n",
              "min           -158.165693  5.105000e+03    20.000000   1955.000000  \n",
              "25%           -117.158285  1.917451e+06    45.000000   2014.000000  \n",
              "50%            -95.673319  4.968749e+06    69.000000   2016.000000  \n",
              "75%            -81.538631  9.657496e+06   110.000000   2018.000000  \n",
              "max            -68.823637  1.581088e+07  1500.000000   2020.000000  "
            ],
            "text/html": [
              "\n",
              "  <div id=\"df-6a5cad2c-0915-45d8-acfe-cf04c0948f4d\" class=\"colab-df-container\">\n",
              "    <div>\n",
              "<style scoped>\n",
              "    .dataframe tbody tr th:only-of-type {\n",
              "        vertical-align: middle;\n",
              "    }\n",
              "\n",
              "    .dataframe tbody tr th {\n",
              "        vertical-align: top;\n",
              "    }\n",
              "\n",
              "    .dataframe thead th {\n",
              "        text-align: right;\n",
              "    }\n",
              "</style>\n",
              "<table border=\"1\" class=\"dataframe\">\n",
              "  <thead>\n",
              "    <tr style=\"text-align: right;\">\n",
              "      <th></th>\n",
              "      <th>rating</th>\n",
              "      <th>renterTripsTaken</th>\n",
              "      <th>reviewCount</th>\n",
              "      <th>location.latitude</th>\n",
              "      <th>location.longitude</th>\n",
              "      <th>owner.id</th>\n",
              "      <th>rate.daily</th>\n",
              "      <th>vehicle.year</th>\n",
              "    </tr>\n",
              "  </thead>\n",
              "  <tbody>\n",
              "    <tr>\n",
              "      <th>count</th>\n",
              "      <td>5350.000000</td>\n",
              "      <td>5851.000000</td>\n",
              "      <td>5851.000000</td>\n",
              "      <td>5851.000000</td>\n",
              "      <td>5851.000000</td>\n",
              "      <td>5.851000e+03</td>\n",
              "      <td>5851.000000</td>\n",
              "      <td>5851.000000</td>\n",
              "    </tr>\n",
              "    <tr>\n",
              "      <th>mean</th>\n",
              "      <td>4.920325</td>\n",
              "      <td>33.477354</td>\n",
              "      <td>28.454794</td>\n",
              "      <td>35.582889</td>\n",
              "      <td>-99.632773</td>\n",
              "      <td>6.034830e+06</td>\n",
              "      <td>93.691506</td>\n",
              "      <td>2015.340113</td>\n",
              "    </tr>\n",
              "    <tr>\n",
              "      <th>std</th>\n",
              "      <td>0.182425</td>\n",
              "      <td>41.898954</td>\n",
              "      <td>35.136113</td>\n",
              "      <td>6.431408</td>\n",
              "      <td>20.391476</td>\n",
              "      <td>4.646022e+06</td>\n",
              "      <td>96.080920</td>\n",
              "      <td>4.050813</td>\n",
              "    </tr>\n",
              "    <tr>\n",
              "      <th>min</th>\n",
              "      <td>1.000000</td>\n",
              "      <td>0.000000</td>\n",
              "      <td>0.000000</td>\n",
              "      <td>21.272565</td>\n",
              "      <td>-158.165693</td>\n",
              "      <td>5.105000e+03</td>\n",
              "      <td>20.000000</td>\n",
              "      <td>1955.000000</td>\n",
              "    </tr>\n",
              "    <tr>\n",
              "      <th>25%</th>\n",
              "      <td>4.900000</td>\n",
              "      <td>5.000000</td>\n",
              "      <td>4.000000</td>\n",
              "      <td>30.453623</td>\n",
              "      <td>-117.158285</td>\n",
              "      <td>1.917451e+06</td>\n",
              "      <td>45.000000</td>\n",
              "      <td>2014.000000</td>\n",
              "    </tr>\n",
              "    <tr>\n",
              "      <th>50%</th>\n",
              "      <td>5.000000</td>\n",
              "      <td>18.000000</td>\n",
              "      <td>16.000000</td>\n",
              "      <td>35.554502</td>\n",
              "      <td>-95.673319</td>\n",
              "      <td>4.968749e+06</td>\n",
              "      <td>69.000000</td>\n",
              "      <td>2016.000000</td>\n",
              "    </tr>\n",
              "    <tr>\n",
              "      <th>75%</th>\n",
              "      <td>5.000000</td>\n",
              "      <td>46.000000</td>\n",
              "      <td>39.000000</td>\n",
              "      <td>39.996864</td>\n",
              "      <td>-81.538631</td>\n",
              "      <td>9.657496e+06</td>\n",
              "      <td>110.000000</td>\n",
              "      <td>2018.000000</td>\n",
              "    </tr>\n",
              "    <tr>\n",
              "      <th>max</th>\n",
              "      <td>5.000000</td>\n",
              "      <td>395.000000</td>\n",
              "      <td>321.000000</td>\n",
              "      <td>64.893610</td>\n",
              "      <td>-68.823637</td>\n",
              "      <td>1.581088e+07</td>\n",
              "      <td>1500.000000</td>\n",
              "      <td>2020.000000</td>\n",
              "    </tr>\n",
              "  </tbody>\n",
              "</table>\n",
              "</div>\n",
              "    <div class=\"colab-df-buttons\">\n",
              "\n",
              "  <div class=\"colab-df-container\">\n",
              "    <button class=\"colab-df-convert\" onclick=\"convertToInteractive('df-6a5cad2c-0915-45d8-acfe-cf04c0948f4d')\"\n",
              "            title=\"Convert this dataframe to an interactive table.\"\n",
              "            style=\"display:none;\">\n",
              "\n",
              "  <svg xmlns=\"http://www.w3.org/2000/svg\" height=\"24px\" viewBox=\"0 -960 960 960\">\n",
              "    <path d=\"M120-120v-720h720v720H120Zm60-500h600v-160H180v160Zm220 220h160v-160H400v160Zm0 220h160v-160H400v160ZM180-400h160v-160H180v160Zm440 0h160v-160H620v160ZM180-180h160v-160H180v160Zm440 0h160v-160H620v160Z\"/>\n",
              "  </svg>\n",
              "    </button>\n",
              "\n",
              "  <style>\n",
              "    .colab-df-container {\n",
              "      display:flex;\n",
              "      gap: 12px;\n",
              "    }\n",
              "\n",
              "    .colab-df-convert {\n",
              "      background-color: #E8F0FE;\n",
              "      border: none;\n",
              "      border-radius: 50%;\n",
              "      cursor: pointer;\n",
              "      display: none;\n",
              "      fill: #1967D2;\n",
              "      height: 32px;\n",
              "      padding: 0 0 0 0;\n",
              "      width: 32px;\n",
              "    }\n",
              "\n",
              "    .colab-df-convert:hover {\n",
              "      background-color: #E2EBFA;\n",
              "      box-shadow: 0px 1px 2px rgba(60, 64, 67, 0.3), 0px 1px 3px 1px rgba(60, 64, 67, 0.15);\n",
              "      fill: #174EA6;\n",
              "    }\n",
              "\n",
              "    .colab-df-buttons div {\n",
              "      margin-bottom: 4px;\n",
              "    }\n",
              "\n",
              "    [theme=dark] .colab-df-convert {\n",
              "      background-color: #3B4455;\n",
              "      fill: #D2E3FC;\n",
              "    }\n",
              "\n",
              "    [theme=dark] .colab-df-convert:hover {\n",
              "      background-color: #434B5C;\n",
              "      box-shadow: 0px 1px 3px 1px rgba(0, 0, 0, 0.15);\n",
              "      filter: drop-shadow(0px 1px 2px rgba(0, 0, 0, 0.3));\n",
              "      fill: #FFFFFF;\n",
              "    }\n",
              "  </style>\n",
              "\n",
              "    <script>\n",
              "      const buttonEl =\n",
              "        document.querySelector('#df-6a5cad2c-0915-45d8-acfe-cf04c0948f4d button.colab-df-convert');\n",
              "      buttonEl.style.display =\n",
              "        google.colab.kernel.accessAllowed ? 'block' : 'none';\n",
              "\n",
              "      async function convertToInteractive(key) {\n",
              "        const element = document.querySelector('#df-6a5cad2c-0915-45d8-acfe-cf04c0948f4d');\n",
              "        const dataTable =\n",
              "          await google.colab.kernel.invokeFunction('convertToInteractive',\n",
              "                                                    [key], {});\n",
              "        if (!dataTable) return;\n",
              "\n",
              "        const docLinkHtml = 'Like what you see? Visit the ' +\n",
              "          '<a target=\"_blank\" href=https://colab.research.google.com/notebooks/data_table.ipynb>data table notebook</a>'\n",
              "          + ' to learn more about interactive tables.';\n",
              "        element.innerHTML = '';\n",
              "        dataTable['output_type'] = 'display_data';\n",
              "        await google.colab.output.renderOutput(dataTable, element);\n",
              "        const docLink = document.createElement('div');\n",
              "        docLink.innerHTML = docLinkHtml;\n",
              "        element.appendChild(docLink);\n",
              "      }\n",
              "    </script>\n",
              "  </div>\n",
              "\n",
              "\n",
              "<div id=\"df-abb10d7a-5d00-4043-aa18-e6ae989b6bd3\">\n",
              "  <button class=\"colab-df-quickchart\" onclick=\"quickchart('df-abb10d7a-5d00-4043-aa18-e6ae989b6bd3')\"\n",
              "            title=\"Suggest charts\"\n",
              "            style=\"display:none;\">\n",
              "\n",
              "<svg xmlns=\"http://www.w3.org/2000/svg\" height=\"24px\"viewBox=\"0 0 24 24\"\n",
              "     width=\"24px\">\n",
              "    <g>\n",
              "        <path d=\"M19 3H5c-1.1 0-2 .9-2 2v14c0 1.1.9 2 2 2h14c1.1 0 2-.9 2-2V5c0-1.1-.9-2-2-2zM9 17H7v-7h2v7zm4 0h-2V7h2v10zm4 0h-2v-4h2v4z\"/>\n",
              "    </g>\n",
              "</svg>\n",
              "  </button>\n",
              "\n",
              "<style>\n",
              "  .colab-df-quickchart {\n",
              "      --bg-color: #E8F0FE;\n",
              "      --fill-color: #1967D2;\n",
              "      --hover-bg-color: #E2EBFA;\n",
              "      --hover-fill-color: #174EA6;\n",
              "      --disabled-fill-color: #AAA;\n",
              "      --disabled-bg-color: #DDD;\n",
              "  }\n",
              "\n",
              "  [theme=dark] .colab-df-quickchart {\n",
              "      --bg-color: #3B4455;\n",
              "      --fill-color: #D2E3FC;\n",
              "      --hover-bg-color: #434B5C;\n",
              "      --hover-fill-color: #FFFFFF;\n",
              "      --disabled-bg-color: #3B4455;\n",
              "      --disabled-fill-color: #666;\n",
              "  }\n",
              "\n",
              "  .colab-df-quickchart {\n",
              "    background-color: var(--bg-color);\n",
              "    border: none;\n",
              "    border-radius: 50%;\n",
              "    cursor: pointer;\n",
              "    display: none;\n",
              "    fill: var(--fill-color);\n",
              "    height: 32px;\n",
              "    padding: 0;\n",
              "    width: 32px;\n",
              "  }\n",
              "\n",
              "  .colab-df-quickchart:hover {\n",
              "    background-color: var(--hover-bg-color);\n",
              "    box-shadow: 0 1px 2px rgba(60, 64, 67, 0.3), 0 1px 3px 1px rgba(60, 64, 67, 0.15);\n",
              "    fill: var(--button-hover-fill-color);\n",
              "  }\n",
              "\n",
              "  .colab-df-quickchart-complete:disabled,\n",
              "  .colab-df-quickchart-complete:disabled:hover {\n",
              "    background-color: var(--disabled-bg-color);\n",
              "    fill: var(--disabled-fill-color);\n",
              "    box-shadow: none;\n",
              "  }\n",
              "\n",
              "  .colab-df-spinner {\n",
              "    border: 2px solid var(--fill-color);\n",
              "    border-color: transparent;\n",
              "    border-bottom-color: var(--fill-color);\n",
              "    animation:\n",
              "      spin 1s steps(1) infinite;\n",
              "  }\n",
              "\n",
              "  @keyframes spin {\n",
              "    0% {\n",
              "      border-color: transparent;\n",
              "      border-bottom-color: var(--fill-color);\n",
              "      border-left-color: var(--fill-color);\n",
              "    }\n",
              "    20% {\n",
              "      border-color: transparent;\n",
              "      border-left-color: var(--fill-color);\n",
              "      border-top-color: var(--fill-color);\n",
              "    }\n",
              "    30% {\n",
              "      border-color: transparent;\n",
              "      border-left-color: var(--fill-color);\n",
              "      border-top-color: var(--fill-color);\n",
              "      border-right-color: var(--fill-color);\n",
              "    }\n",
              "    40% {\n",
              "      border-color: transparent;\n",
              "      border-right-color: var(--fill-color);\n",
              "      border-top-color: var(--fill-color);\n",
              "    }\n",
              "    60% {\n",
              "      border-color: transparent;\n",
              "      border-right-color: var(--fill-color);\n",
              "    }\n",
              "    80% {\n",
              "      border-color: transparent;\n",
              "      border-right-color: var(--fill-color);\n",
              "      border-bottom-color: var(--fill-color);\n",
              "    }\n",
              "    90% {\n",
              "      border-color: transparent;\n",
              "      border-bottom-color: var(--fill-color);\n",
              "    }\n",
              "  }\n",
              "</style>\n",
              "\n",
              "  <script>\n",
              "    async function quickchart(key) {\n",
              "      const quickchartButtonEl =\n",
              "        document.querySelector('#' + key + ' button');\n",
              "      quickchartButtonEl.disabled = true;  // To prevent multiple clicks.\n",
              "      quickchartButtonEl.classList.add('colab-df-spinner');\n",
              "      try {\n",
              "        const charts = await google.colab.kernel.invokeFunction(\n",
              "            'suggestCharts', [key], {});\n",
              "      } catch (error) {\n",
              "        console.error('Error during call to suggestCharts:', error);\n",
              "      }\n",
              "      quickchartButtonEl.classList.remove('colab-df-spinner');\n",
              "      quickchartButtonEl.classList.add('colab-df-quickchart-complete');\n",
              "    }\n",
              "    (() => {\n",
              "      let quickchartButtonEl =\n",
              "        document.querySelector('#df-abb10d7a-5d00-4043-aa18-e6ae989b6bd3 button');\n",
              "      quickchartButtonEl.style.display =\n",
              "        google.colab.kernel.accessAllowed ? 'block' : 'none';\n",
              "    })();\n",
              "  </script>\n",
              "</div>\n",
              "    </div>\n",
              "  </div>\n"
            ],
            "application/vnd.google.colaboratory.intrinsic+json": {
              "type": "dataframe",
              "summary": "{\n  \"name\": \"df_file\",\n  \"rows\": 8,\n  \"fields\": [\n    {\n      \"column\": \"rating\",\n      \"properties\": {\n        \"dtype\": \"number\",\n        \"std\": 1890.1983477258584,\n        \"min\": 0.18242525703752777,\n        \"max\": 5350.0,\n        \"num_unique_values\": 6,\n        \"samples\": [\n          5350.0,\n          4.92032523364486,\n          5.0\n        ],\n        \"semantic_type\": \"\",\n        \"description\": \"\"\n      }\n    },\n    {\n      \"column\": \"renterTripsTaken\",\n      \"properties\": {\n        \"dtype\": \"number\",\n        \"std\": 2045.5859651355388,\n        \"min\": 0.0,\n        \"max\": 5851.0,\n        \"num_unique_values\": 8,\n        \"samples\": [\n          33.477354298410525,\n          18.0,\n          5851.0\n        ],\n        \"semantic_type\": \"\",\n        \"description\": \"\"\n      }\n    },\n    {\n      \"column\": \"reviewCount\",\n      \"properties\": {\n        \"dtype\": \"number\",\n        \"std\": 2048.9838905224387,\n        \"min\": 0.0,\n        \"max\": 5851.0,\n        \"num_unique_values\": 8,\n        \"samples\": [\n          28.45479405229875,\n          16.0,\n          5851.0\n        ],\n        \"semantic_type\": \"\",\n        \"description\": \"\"\n      }\n    },\n    {\n      \"column\": \"location.latitude\",\n      \"properties\": {\n        \"dtype\": \"number\",\n        \"std\": 2056.879683961469,\n        \"min\": 6.431408483050628,\n        \"max\": 5851.0,\n        \"num_unique_values\": 8,\n        \"samples\": [\n          35.58288892907195,\n          35.554502,\n          5851.0\n        ],\n        \"semantic_type\": \"\",\n        \"description\": \"\"\n      }\n    },\n    {\n      \"column\": \"location.longitude\",\n      \"properties\": {\n        \"dtype\": \"number\",\n        \"std\": 2099.591395244943,\n        \"min\": -158.165693,\n        \"max\": 5851.0,\n        \"num_unique_values\": 8,\n        \"samples\": [\n          -99.63277339736798,\n          -95.673319,\n          5851.0\n        ],\n        \"semantic_type\": \"\",\n        \"description\": \"\"\n      }\n    },\n    {\n      \"column\": \"owner.id\",\n      \"properties\": {\n        \"dtype\": \"number\",\n        \"std\": 5318393.197851077,\n        \"min\": 5105.0,\n        \"max\": 15810882.0,\n        \"num_unique_values\": 8,\n        \"samples\": [\n          6034829.857460263,\n          4968749.0,\n          5851.0\n        ],\n        \"semantic_type\": \"\",\n        \"description\": \"\"\n      }\n    },\n    {\n      \"column\": \"rate.daily\",\n      \"properties\": {\n        \"dtype\": \"number\",\n        \"std\": 2033.5107371097067,\n        \"min\": 20.0,\n        \"max\": 5851.0,\n        \"num_unique_values\": 8,\n        \"samples\": [\n          93.691505725517,\n          69.0,\n          5851.0\n        ],\n        \"semantic_type\": \"\",\n        \"description\": \"\"\n      }\n    },\n    {\n      \"column\": \"vehicle.year\",\n      \"properties\": {\n        \"dtype\": \"number\",\n        \"std\": 1619.9353745608007,\n        \"min\": 4.050813477985323,\n        \"max\": 5851.0,\n        \"num_unique_values\": 8,\n        \"samples\": [\n          2015.3401128012306,\n          2016.0,\n          5851.0\n        ],\n        \"semantic_type\": \"\",\n        \"description\": \"\"\n      }\n    }\n  ]\n}"
            }
          },
          "metadata": {},
          "execution_count": 20
        }
      ]
    },
    {
      "cell_type": "markdown",
      "source": [
        "\n",
        "1. **Rating (`rating`)**:\n",
        "   - Rata-rata rating kendaraan adalah sekitar 4.92 dengan standar deviasi sekitar 0.18, menunjukkan bahwa mayoritas kendaraan memiliki rating yang sangat tinggi (mendekati 5).\n",
        "   - Rentang rating berkisar dari 1 hingga 5.\n",
        "\n",
        "2. **Jumlah perjalanan yang diambil oleh penyewa (`renterTripsTaken`)**:\n",
        "   - Rata-rata jumlah perjalanan yang diambil oleh penyewa adalah sekitar 33.48, dengan variasi yang signifikan (standar deviasi sekitar 41.90), menunjukkan keragaman dalam penggunaan kendaraan.\n",
        "   - Jumlah perjalanan yang diambil berkisar dari 0 hingga 395, dengan mayoritas renterTripsTaken berada di bawah 50.\n",
        "\n",
        "3. **Jumlah ulasan yang diberikan (`reviewCount`)**:\n",
        "   - Rata-rata jumlah ulasan yang diberikan adalah sekitar 28.45, dengan variasi yang cukup besar (standar deviasi sekitar 35.14).\n",
        "   - Rentang jumlah ulasan berkisar dari 0 hingga 321.\n",
        "\n",
        "4. **Koordinat lintang dan bujur lokasi kendaraan (`location.latitude` dan `location.longitude`)**:\n",
        "   - Rata-rata koordinat lintang adalah sekitar 35.58, dan rata-rata koordinat bujur adalah sekitar -99.63.\n",
        "   - Variasi koordinat menunjukkan variasi lokasi kendaraan yang luas.\n",
        "\n",
        "5. **ID pemilik kendaraan (`owner.id`)**:\n",
        "   - Rata-rata ID pemilik kendaraan adalah sekitar 6.03 juta.\n",
        "   - ID pemilik berkisar dari 5105 hingga 15.810.880.\n",
        "\n",
        "6. **Tarif sewa harian kendaraan (`rate.daily`)**:\n",
        "   - Rata-rata tarif sewa harian kendaraan adalah sekitar 93.69 dollar dengan variasi yang signifikan standar deviasi sekitar 96.08 dollar\n",
        "   - Tarif harian berkisar dari 20 dollar hingga 1500 dollar.\n",
        "\n",
        "7. **Tahun produksi kendaraan (`vehicle.year`)**:\n",
        "   - Rata-rata tahun produksi kendaraan adalah sekitar 2015.34 dengan standar deviasi sekitar 4.05.\n",
        "   - Tahun produksi kendaraan berkisar dari 1955 hingga 2020.\n"
      ],
      "metadata": {
        "id": "q_OSzaKKV28E"
      }
    },
    {
      "cell_type": "code",
      "source": [
        "df_file.corr(numeric_only = True)"
      ],
      "metadata": {
        "colab": {
          "base_uri": "https://localhost:8080/",
          "height": 300
        },
        "id": "lJ3UgXLN-eaH",
        "outputId": "721b2b98-9c4f-4e00-86ef-87f7656c46cb"
      },
      "execution_count": null,
      "outputs": [
        {
          "output_type": "execute_result",
          "data": {
            "text/plain": [
              "                      rating  renterTripsTaken  reviewCount  \\\n",
              "rating              1.000000         -0.054883    -0.040144   \n",
              "renterTripsTaken   -0.054883          1.000000     0.994177   \n",
              "reviewCount        -0.040144          0.994177     1.000000   \n",
              "location.latitude  -0.002643          0.010998     0.007881   \n",
              "location.longitude -0.015799         -0.053036    -0.047017   \n",
              "owner.id            0.051674         -0.331197    -0.325160   \n",
              "rate.daily          0.086745         -0.104027    -0.100856   \n",
              "vehicle.year        0.108765         -0.123407    -0.111388   \n",
              "\n",
              "                    location.latitude  location.longitude  owner.id  \\\n",
              "rating                      -0.002643           -0.015799  0.051674   \n",
              "renterTripsTaken             0.010998           -0.053036 -0.331197   \n",
              "reviewCount                  0.007881           -0.047017 -0.325160   \n",
              "location.latitude            1.000000           -0.012547  0.006748   \n",
              "location.longitude          -0.012547            1.000000  0.020020   \n",
              "owner.id                     0.006748            0.020020  1.000000   \n",
              "rate.daily                  -0.013018            0.057446 -0.011215   \n",
              "vehicle.year                -0.030036            0.018361  0.095297   \n",
              "\n",
              "                    rate.daily  vehicle.year  \n",
              "rating                0.086745      0.108765  \n",
              "renterTripsTaken     -0.104027     -0.123407  \n",
              "reviewCount          -0.100856     -0.111388  \n",
              "location.latitude    -0.013018     -0.030036  \n",
              "location.longitude    0.057446      0.018361  \n",
              "owner.id             -0.011215      0.095297  \n",
              "rate.daily            1.000000      0.042639  \n",
              "vehicle.year          0.042639      1.000000  "
            ],
            "text/html": [
              "\n",
              "  <div id=\"df-16e3fe87-7099-45cd-b8ca-43b1a9f93af2\" class=\"colab-df-container\">\n",
              "    <div>\n",
              "<style scoped>\n",
              "    .dataframe tbody tr th:only-of-type {\n",
              "        vertical-align: middle;\n",
              "    }\n",
              "\n",
              "    .dataframe tbody tr th {\n",
              "        vertical-align: top;\n",
              "    }\n",
              "\n",
              "    .dataframe thead th {\n",
              "        text-align: right;\n",
              "    }\n",
              "</style>\n",
              "<table border=\"1\" class=\"dataframe\">\n",
              "  <thead>\n",
              "    <tr style=\"text-align: right;\">\n",
              "      <th></th>\n",
              "      <th>rating</th>\n",
              "      <th>renterTripsTaken</th>\n",
              "      <th>reviewCount</th>\n",
              "      <th>location.latitude</th>\n",
              "      <th>location.longitude</th>\n",
              "      <th>owner.id</th>\n",
              "      <th>rate.daily</th>\n",
              "      <th>vehicle.year</th>\n",
              "    </tr>\n",
              "  </thead>\n",
              "  <tbody>\n",
              "    <tr>\n",
              "      <th>rating</th>\n",
              "      <td>1.000000</td>\n",
              "      <td>-0.054883</td>\n",
              "      <td>-0.040144</td>\n",
              "      <td>-0.002643</td>\n",
              "      <td>-0.015799</td>\n",
              "      <td>0.051674</td>\n",
              "      <td>0.086745</td>\n",
              "      <td>0.108765</td>\n",
              "    </tr>\n",
              "    <tr>\n",
              "      <th>renterTripsTaken</th>\n",
              "      <td>-0.054883</td>\n",
              "      <td>1.000000</td>\n",
              "      <td>0.994177</td>\n",
              "      <td>0.010998</td>\n",
              "      <td>-0.053036</td>\n",
              "      <td>-0.331197</td>\n",
              "      <td>-0.104027</td>\n",
              "      <td>-0.123407</td>\n",
              "    </tr>\n",
              "    <tr>\n",
              "      <th>reviewCount</th>\n",
              "      <td>-0.040144</td>\n",
              "      <td>0.994177</td>\n",
              "      <td>1.000000</td>\n",
              "      <td>0.007881</td>\n",
              "      <td>-0.047017</td>\n",
              "      <td>-0.325160</td>\n",
              "      <td>-0.100856</td>\n",
              "      <td>-0.111388</td>\n",
              "    </tr>\n",
              "    <tr>\n",
              "      <th>location.latitude</th>\n",
              "      <td>-0.002643</td>\n",
              "      <td>0.010998</td>\n",
              "      <td>0.007881</td>\n",
              "      <td>1.000000</td>\n",
              "      <td>-0.012547</td>\n",
              "      <td>0.006748</td>\n",
              "      <td>-0.013018</td>\n",
              "      <td>-0.030036</td>\n",
              "    </tr>\n",
              "    <tr>\n",
              "      <th>location.longitude</th>\n",
              "      <td>-0.015799</td>\n",
              "      <td>-0.053036</td>\n",
              "      <td>-0.047017</td>\n",
              "      <td>-0.012547</td>\n",
              "      <td>1.000000</td>\n",
              "      <td>0.020020</td>\n",
              "      <td>0.057446</td>\n",
              "      <td>0.018361</td>\n",
              "    </tr>\n",
              "    <tr>\n",
              "      <th>owner.id</th>\n",
              "      <td>0.051674</td>\n",
              "      <td>-0.331197</td>\n",
              "      <td>-0.325160</td>\n",
              "      <td>0.006748</td>\n",
              "      <td>0.020020</td>\n",
              "      <td>1.000000</td>\n",
              "      <td>-0.011215</td>\n",
              "      <td>0.095297</td>\n",
              "    </tr>\n",
              "    <tr>\n",
              "      <th>rate.daily</th>\n",
              "      <td>0.086745</td>\n",
              "      <td>-0.104027</td>\n",
              "      <td>-0.100856</td>\n",
              "      <td>-0.013018</td>\n",
              "      <td>0.057446</td>\n",
              "      <td>-0.011215</td>\n",
              "      <td>1.000000</td>\n",
              "      <td>0.042639</td>\n",
              "    </tr>\n",
              "    <tr>\n",
              "      <th>vehicle.year</th>\n",
              "      <td>0.108765</td>\n",
              "      <td>-0.123407</td>\n",
              "      <td>-0.111388</td>\n",
              "      <td>-0.030036</td>\n",
              "      <td>0.018361</td>\n",
              "      <td>0.095297</td>\n",
              "      <td>0.042639</td>\n",
              "      <td>1.000000</td>\n",
              "    </tr>\n",
              "  </tbody>\n",
              "</table>\n",
              "</div>\n",
              "    <div class=\"colab-df-buttons\">\n",
              "\n",
              "  <div class=\"colab-df-container\">\n",
              "    <button class=\"colab-df-convert\" onclick=\"convertToInteractive('df-16e3fe87-7099-45cd-b8ca-43b1a9f93af2')\"\n",
              "            title=\"Convert this dataframe to an interactive table.\"\n",
              "            style=\"display:none;\">\n",
              "\n",
              "  <svg xmlns=\"http://www.w3.org/2000/svg\" height=\"24px\" viewBox=\"0 -960 960 960\">\n",
              "    <path d=\"M120-120v-720h720v720H120Zm60-500h600v-160H180v160Zm220 220h160v-160H400v160Zm0 220h160v-160H400v160ZM180-400h160v-160H180v160Zm440 0h160v-160H620v160ZM180-180h160v-160H180v160Zm440 0h160v-160H620v160Z\"/>\n",
              "  </svg>\n",
              "    </button>\n",
              "\n",
              "  <style>\n",
              "    .colab-df-container {\n",
              "      display:flex;\n",
              "      gap: 12px;\n",
              "    }\n",
              "\n",
              "    .colab-df-convert {\n",
              "      background-color: #E8F0FE;\n",
              "      border: none;\n",
              "      border-radius: 50%;\n",
              "      cursor: pointer;\n",
              "      display: none;\n",
              "      fill: #1967D2;\n",
              "      height: 32px;\n",
              "      padding: 0 0 0 0;\n",
              "      width: 32px;\n",
              "    }\n",
              "\n",
              "    .colab-df-convert:hover {\n",
              "      background-color: #E2EBFA;\n",
              "      box-shadow: 0px 1px 2px rgba(60, 64, 67, 0.3), 0px 1px 3px 1px rgba(60, 64, 67, 0.15);\n",
              "      fill: #174EA6;\n",
              "    }\n",
              "\n",
              "    .colab-df-buttons div {\n",
              "      margin-bottom: 4px;\n",
              "    }\n",
              "\n",
              "    [theme=dark] .colab-df-convert {\n",
              "      background-color: #3B4455;\n",
              "      fill: #D2E3FC;\n",
              "    }\n",
              "\n",
              "    [theme=dark] .colab-df-convert:hover {\n",
              "      background-color: #434B5C;\n",
              "      box-shadow: 0px 1px 3px 1px rgba(0, 0, 0, 0.15);\n",
              "      filter: drop-shadow(0px 1px 2px rgba(0, 0, 0, 0.3));\n",
              "      fill: #FFFFFF;\n",
              "    }\n",
              "  </style>\n",
              "\n",
              "    <script>\n",
              "      const buttonEl =\n",
              "        document.querySelector('#df-16e3fe87-7099-45cd-b8ca-43b1a9f93af2 button.colab-df-convert');\n",
              "      buttonEl.style.display =\n",
              "        google.colab.kernel.accessAllowed ? 'block' : 'none';\n",
              "\n",
              "      async function convertToInteractive(key) {\n",
              "        const element = document.querySelector('#df-16e3fe87-7099-45cd-b8ca-43b1a9f93af2');\n",
              "        const dataTable =\n",
              "          await google.colab.kernel.invokeFunction('convertToInteractive',\n",
              "                                                    [key], {});\n",
              "        if (!dataTable) return;\n",
              "\n",
              "        const docLinkHtml = 'Like what you see? Visit the ' +\n",
              "          '<a target=\"_blank\" href=https://colab.research.google.com/notebooks/data_table.ipynb>data table notebook</a>'\n",
              "          + ' to learn more about interactive tables.';\n",
              "        element.innerHTML = '';\n",
              "        dataTable['output_type'] = 'display_data';\n",
              "        await google.colab.output.renderOutput(dataTable, element);\n",
              "        const docLink = document.createElement('div');\n",
              "        docLink.innerHTML = docLinkHtml;\n",
              "        element.appendChild(docLink);\n",
              "      }\n",
              "    </script>\n",
              "  </div>\n",
              "\n",
              "\n",
              "<div id=\"df-cf378d87-ddc7-4568-87f2-adea682662c4\">\n",
              "  <button class=\"colab-df-quickchart\" onclick=\"quickchart('df-cf378d87-ddc7-4568-87f2-adea682662c4')\"\n",
              "            title=\"Suggest charts\"\n",
              "            style=\"display:none;\">\n",
              "\n",
              "<svg xmlns=\"http://www.w3.org/2000/svg\" height=\"24px\"viewBox=\"0 0 24 24\"\n",
              "     width=\"24px\">\n",
              "    <g>\n",
              "        <path d=\"M19 3H5c-1.1 0-2 .9-2 2v14c0 1.1.9 2 2 2h14c1.1 0 2-.9 2-2V5c0-1.1-.9-2-2-2zM9 17H7v-7h2v7zm4 0h-2V7h2v10zm4 0h-2v-4h2v4z\"/>\n",
              "    </g>\n",
              "</svg>\n",
              "  </button>\n",
              "\n",
              "<style>\n",
              "  .colab-df-quickchart {\n",
              "      --bg-color: #E8F0FE;\n",
              "      --fill-color: #1967D2;\n",
              "      --hover-bg-color: #E2EBFA;\n",
              "      --hover-fill-color: #174EA6;\n",
              "      --disabled-fill-color: #AAA;\n",
              "      --disabled-bg-color: #DDD;\n",
              "  }\n",
              "\n",
              "  [theme=dark] .colab-df-quickchart {\n",
              "      --bg-color: #3B4455;\n",
              "      --fill-color: #D2E3FC;\n",
              "      --hover-bg-color: #434B5C;\n",
              "      --hover-fill-color: #FFFFFF;\n",
              "      --disabled-bg-color: #3B4455;\n",
              "      --disabled-fill-color: #666;\n",
              "  }\n",
              "\n",
              "  .colab-df-quickchart {\n",
              "    background-color: var(--bg-color);\n",
              "    border: none;\n",
              "    border-radius: 50%;\n",
              "    cursor: pointer;\n",
              "    display: none;\n",
              "    fill: var(--fill-color);\n",
              "    height: 32px;\n",
              "    padding: 0;\n",
              "    width: 32px;\n",
              "  }\n",
              "\n",
              "  .colab-df-quickchart:hover {\n",
              "    background-color: var(--hover-bg-color);\n",
              "    box-shadow: 0 1px 2px rgba(60, 64, 67, 0.3), 0 1px 3px 1px rgba(60, 64, 67, 0.15);\n",
              "    fill: var(--button-hover-fill-color);\n",
              "  }\n",
              "\n",
              "  .colab-df-quickchart-complete:disabled,\n",
              "  .colab-df-quickchart-complete:disabled:hover {\n",
              "    background-color: var(--disabled-bg-color);\n",
              "    fill: var(--disabled-fill-color);\n",
              "    box-shadow: none;\n",
              "  }\n",
              "\n",
              "  .colab-df-spinner {\n",
              "    border: 2px solid var(--fill-color);\n",
              "    border-color: transparent;\n",
              "    border-bottom-color: var(--fill-color);\n",
              "    animation:\n",
              "      spin 1s steps(1) infinite;\n",
              "  }\n",
              "\n",
              "  @keyframes spin {\n",
              "    0% {\n",
              "      border-color: transparent;\n",
              "      border-bottom-color: var(--fill-color);\n",
              "      border-left-color: var(--fill-color);\n",
              "    }\n",
              "    20% {\n",
              "      border-color: transparent;\n",
              "      border-left-color: var(--fill-color);\n",
              "      border-top-color: var(--fill-color);\n",
              "    }\n",
              "    30% {\n",
              "      border-color: transparent;\n",
              "      border-left-color: var(--fill-color);\n",
              "      border-top-color: var(--fill-color);\n",
              "      border-right-color: var(--fill-color);\n",
              "    }\n",
              "    40% {\n",
              "      border-color: transparent;\n",
              "      border-right-color: var(--fill-color);\n",
              "      border-top-color: var(--fill-color);\n",
              "    }\n",
              "    60% {\n",
              "      border-color: transparent;\n",
              "      border-right-color: var(--fill-color);\n",
              "    }\n",
              "    80% {\n",
              "      border-color: transparent;\n",
              "      border-right-color: var(--fill-color);\n",
              "      border-bottom-color: var(--fill-color);\n",
              "    }\n",
              "    90% {\n",
              "      border-color: transparent;\n",
              "      border-bottom-color: var(--fill-color);\n",
              "    }\n",
              "  }\n",
              "</style>\n",
              "\n",
              "  <script>\n",
              "    async function quickchart(key) {\n",
              "      const quickchartButtonEl =\n",
              "        document.querySelector('#' + key + ' button');\n",
              "      quickchartButtonEl.disabled = true;  // To prevent multiple clicks.\n",
              "      quickchartButtonEl.classList.add('colab-df-spinner');\n",
              "      try {\n",
              "        const charts = await google.colab.kernel.invokeFunction(\n",
              "            'suggestCharts', [key], {});\n",
              "      } catch (error) {\n",
              "        console.error('Error during call to suggestCharts:', error);\n",
              "      }\n",
              "      quickchartButtonEl.classList.remove('colab-df-spinner');\n",
              "      quickchartButtonEl.classList.add('colab-df-quickchart-complete');\n",
              "    }\n",
              "    (() => {\n",
              "      let quickchartButtonEl =\n",
              "        document.querySelector('#df-cf378d87-ddc7-4568-87f2-adea682662c4 button');\n",
              "      quickchartButtonEl.style.display =\n",
              "        google.colab.kernel.accessAllowed ? 'block' : 'none';\n",
              "    })();\n",
              "  </script>\n",
              "</div>\n",
              "    </div>\n",
              "  </div>\n"
            ],
            "application/vnd.google.colaboratory.intrinsic+json": {
              "type": "dataframe",
              "summary": "{\n  \"name\": \"df_file\",\n  \"rows\": 8,\n  \"fields\": [\n    {\n      \"column\": \"rating\",\n      \"properties\": {\n        \"dtype\": \"number\",\n        \"std\": 0.35177939194460794,\n        \"min\": -0.05488330226237567,\n        \"max\": 1.0,\n        \"num_unique_values\": 8,\n        \"samples\": [\n          -0.05488330226237567,\n          0.05167439331325373,\n          1.0\n        ],\n        \"semantic_type\": \"\",\n        \"description\": \"\"\n      }\n    },\n    {\n      \"column\": \"renterTripsTaken\",\n      \"properties\": {\n        \"dtype\": \"number\",\n        \"std\": 0.5218219242877041,\n        \"min\": -0.3311965938734169,\n        \"max\": 1.0,\n        \"num_unique_values\": 8,\n        \"samples\": [\n          1.0,\n          -0.3311965938734169,\n          -0.05488330226237567\n        ],\n        \"semantic_type\": \"\",\n        \"description\": \"\"\n      }\n    },\n    {\n      \"column\": \"reviewCount\",\n      \"properties\": {\n        \"dtype\": \"number\",\n        \"std\": 0.5187065400881291,\n        \"min\": -0.32516036053109404,\n        \"max\": 1.0,\n        \"num_unique_values\": 8,\n        \"samples\": [\n          0.994177466463903,\n          -0.32516036053109404,\n          -0.040143515149443545\n        ],\n        \"semantic_type\": \"\",\n        \"description\": \"\"\n      }\n    },\n    {\n      \"column\": \"location.latitude\",\n      \"properties\": {\n        \"dtype\": \"number\",\n        \"std\": 0.3554646804740539,\n        \"min\": -0.030036468494546654,\n        \"max\": 1.0,\n        \"num_unique_values\": 8,\n        \"samples\": [\n          0.010997925381046443,\n          0.00674826665556004,\n          -0.0026429536310983506\n        ],\n        \"semantic_type\": \"\",\n        \"description\": \"\"\n      }\n    },\n    {\n      \"column\": \"location.longitude\",\n      \"properties\": {\n        \"dtype\": \"number\",\n        \"std\": 0.35706714011111174,\n        \"min\": -0.05303550314832267,\n        \"max\": 1.0,\n        \"num_unique_values\": 8,\n        \"samples\": [\n          -0.05303550314832267,\n          0.02002028204493508,\n          -0.015799284519412767\n        ],\n        \"semantic_type\": \"\",\n        \"description\": \"\"\n      }\n    },\n    {\n      \"column\": \"owner.id\",\n      \"properties\": {\n        \"dtype\": \"number\",\n        \"std\": 0.41330006729996793,\n        \"min\": -0.3311965938734169,\n        \"max\": 1.0,\n        \"num_unique_values\": 8,\n        \"samples\": [\n          -0.3311965938734169,\n          1.0,\n          0.05167439331325373\n        ],\n        \"semantic_type\": \"\",\n        \"description\": \"\"\n      }\n    },\n    {\n      \"column\": \"rate.daily\",\n      \"properties\": {\n        \"dtype\": \"number\",\n        \"std\": 0.36238879551012226,\n        \"min\": -0.10402660418207492,\n        \"max\": 1.0,\n        \"num_unique_values\": 8,\n        \"samples\": [\n          -0.10402660418207492,\n          -0.011215281923584758,\n          0.08674538676845917\n        ],\n        \"semantic_type\": \"\",\n        \"description\": \"\"\n      }\n    },\n    {\n      \"column\": \"vehicle.year\",\n      \"properties\": {\n        \"dtype\": \"number\",\n        \"std\": 0.3638186185729229,\n        \"min\": -0.1234073167150094,\n        \"max\": 1.0,\n        \"num_unique_values\": 8,\n        \"samples\": [\n          -0.1234073167150094,\n          0.09529699007050635,\n          0.10876514210667851\n        ],\n        \"semantic_type\": \"\",\n        \"description\": \"\"\n      }\n    }\n  ]\n}"
            }
          },
          "metadata": {},
          "execution_count": 6
        }
      ]
    },
    {
      "cell_type": "markdown",
      "source": [],
      "metadata": {
        "id": "WaZNxCx1_TEc"
      }
    },
    {
      "cell_type": "code",
      "source": [
        "px.imshow(df_file.corr(numeric_only = True))"
      ],
      "metadata": {
        "colab": {
          "base_uri": "https://localhost:8080/",
          "height": 542
        },
        "id": "O86T5BUi_-_T",
        "outputId": "1d366dae-0d0f-4d4e-c6f2-bcc771b68131"
      },
      "execution_count": null,
      "outputs": [
        {
          "output_type": "display_data",
          "data": {
            "text/html": [
              "<html>\n",
              "<head><meta charset=\"utf-8\" /></head>\n",
              "<body>\n",
              "    <div>            <script src=\"https://cdnjs.cloudflare.com/ajax/libs/mathjax/2.7.5/MathJax.js?config=TeX-AMS-MML_SVG\"></script><script type=\"text/javascript\">if (window.MathJax && window.MathJax.Hub && window.MathJax.Hub.Config) {window.MathJax.Hub.Config({SVG: {font: \"STIX-Web\"}});}</script>                <script type=\"text/javascript\">window.PlotlyConfig = {MathJaxConfig: 'local'};</script>\n",
              "        <script charset=\"utf-8\" src=\"https://cdn.plot.ly/plotly-2.24.1.min.js\"></script>                <div id=\"aaa6dc28-ccaf-43f0-aceb-c82897df350f\" class=\"plotly-graph-div\" style=\"height:525px; width:100%;\"></div>            <script type=\"text/javascript\">                                    window.PLOTLYENV=window.PLOTLYENV || {};                                    if (document.getElementById(\"aaa6dc28-ccaf-43f0-aceb-c82897df350f\")) {                    Plotly.newPlot(                        \"aaa6dc28-ccaf-43f0-aceb-c82897df350f\",                        [{\"coloraxis\":\"coloraxis\",\"name\":\"0\",\"x\":[\"rating\",\"renterTripsTaken\",\"reviewCount\",\"location.latitude\",\"location.longitude\",\"owner.id\",\"rate.daily\",\"vehicle.year\"],\"y\":[\"rating\",\"renterTripsTaken\",\"reviewCount\",\"location.latitude\",\"location.longitude\",\"owner.id\",\"rate.daily\",\"vehicle.year\"],\"z\":[[1.0,-0.05488330226237567,-0.040143515149443545,-0.0026429536310983506,-0.015799284519412767,0.05167439331325373,0.08674538676845917,0.10876514210667851],[-0.05488330226237567,1.0,0.994177466463903,0.010997925381046443,-0.05303550314832267,-0.3311965938734169,-0.10402660418207492,-0.1234073167150094],[-0.040143515149443545,0.994177466463903,1.0,0.00788097505993353,-0.04701650993604734,-0.32516036053109404,-0.10085602402639307,-0.11138811690052051],[-0.0026429536310983506,0.010997925381046443,0.00788097505993353,1.0,-0.012546845629349625,0.00674826665556004,-0.01301804911775773,-0.030036468494546654],[-0.015799284519412767,-0.05303550314832267,-0.04701650993604734,-0.012546845629349625,1.0,0.02002028204493508,0.05744559177205463,0.018360513154976377],[0.05167439331325373,-0.3311965938734169,-0.32516036053109404,0.00674826665556004,0.02002028204493508,1.0,-0.011215281923584758,0.09529699007050635],[0.08674538676845917,-0.10402660418207492,-0.10085602402639307,-0.01301804911775773,0.05744559177205463,-0.011215281923584758,1.0,0.04263948621441656],[0.10876514210667851,-0.1234073167150094,-0.11138811690052051,-0.030036468494546654,0.018360513154976377,0.09529699007050635,0.04263948621441656,1.0]],\"type\":\"heatmap\",\"xaxis\":\"x\",\"yaxis\":\"y\",\"hovertemplate\":\"x: %{x}\\u003cbr\\u003ey: %{y}\\u003cbr\\u003ecolor: %{z}\\u003cextra\\u003e\\u003c\\u002fextra\\u003e\"}],                        {\"template\":{\"data\":{\"histogram2dcontour\":[{\"type\":\"histogram2dcontour\",\"colorbar\":{\"outlinewidth\":0,\"ticks\":\"\"},\"colorscale\":[[0.0,\"#0d0887\"],[0.1111111111111111,\"#46039f\"],[0.2222222222222222,\"#7201a8\"],[0.3333333333333333,\"#9c179e\"],[0.4444444444444444,\"#bd3786\"],[0.5555555555555556,\"#d8576b\"],[0.6666666666666666,\"#ed7953\"],[0.7777777777777778,\"#fb9f3a\"],[0.8888888888888888,\"#fdca26\"],[1.0,\"#f0f921\"]]}],\"choropleth\":[{\"type\":\"choropleth\",\"colorbar\":{\"outlinewidth\":0,\"ticks\":\"\"}}],\"histogram2d\":[{\"type\":\"histogram2d\",\"colorbar\":{\"outlinewidth\":0,\"ticks\":\"\"},\"colorscale\":[[0.0,\"#0d0887\"],[0.1111111111111111,\"#46039f\"],[0.2222222222222222,\"#7201a8\"],[0.3333333333333333,\"#9c179e\"],[0.4444444444444444,\"#bd3786\"],[0.5555555555555556,\"#d8576b\"],[0.6666666666666666,\"#ed7953\"],[0.7777777777777778,\"#fb9f3a\"],[0.8888888888888888,\"#fdca26\"],[1.0,\"#f0f921\"]]}],\"heatmap\":[{\"type\":\"heatmap\",\"colorbar\":{\"outlinewidth\":0,\"ticks\":\"\"},\"colorscale\":[[0.0,\"#0d0887\"],[0.1111111111111111,\"#46039f\"],[0.2222222222222222,\"#7201a8\"],[0.3333333333333333,\"#9c179e\"],[0.4444444444444444,\"#bd3786\"],[0.5555555555555556,\"#d8576b\"],[0.6666666666666666,\"#ed7953\"],[0.7777777777777778,\"#fb9f3a\"],[0.8888888888888888,\"#fdca26\"],[1.0,\"#f0f921\"]]}],\"heatmapgl\":[{\"type\":\"heatmapgl\",\"colorbar\":{\"outlinewidth\":0,\"ticks\":\"\"},\"colorscale\":[[0.0,\"#0d0887\"],[0.1111111111111111,\"#46039f\"],[0.2222222222222222,\"#7201a8\"],[0.3333333333333333,\"#9c179e\"],[0.4444444444444444,\"#bd3786\"],[0.5555555555555556,\"#d8576b\"],[0.6666666666666666,\"#ed7953\"],[0.7777777777777778,\"#fb9f3a\"],[0.8888888888888888,\"#fdca26\"],[1.0,\"#f0f921\"]]}],\"contourcarpet\":[{\"type\":\"contourcarpet\",\"colorbar\":{\"outlinewidth\":0,\"ticks\":\"\"}}],\"contour\":[{\"type\":\"contour\",\"colorbar\":{\"outlinewidth\":0,\"ticks\":\"\"},\"colorscale\":[[0.0,\"#0d0887\"],[0.1111111111111111,\"#46039f\"],[0.2222222222222222,\"#7201a8\"],[0.3333333333333333,\"#9c179e\"],[0.4444444444444444,\"#bd3786\"],[0.5555555555555556,\"#d8576b\"],[0.6666666666666666,\"#ed7953\"],[0.7777777777777778,\"#fb9f3a\"],[0.8888888888888888,\"#fdca26\"],[1.0,\"#f0f921\"]]}],\"surface\":[{\"type\":\"surface\",\"colorbar\":{\"outlinewidth\":0,\"ticks\":\"\"},\"colorscale\":[[0.0,\"#0d0887\"],[0.1111111111111111,\"#46039f\"],[0.2222222222222222,\"#7201a8\"],[0.3333333333333333,\"#9c179e\"],[0.4444444444444444,\"#bd3786\"],[0.5555555555555556,\"#d8576b\"],[0.6666666666666666,\"#ed7953\"],[0.7777777777777778,\"#fb9f3a\"],[0.8888888888888888,\"#fdca26\"],[1.0,\"#f0f921\"]]}],\"mesh3d\":[{\"type\":\"mesh3d\",\"colorbar\":{\"outlinewidth\":0,\"ticks\":\"\"}}],\"scatter\":[{\"fillpattern\":{\"fillmode\":\"overlay\",\"size\":10,\"solidity\":0.2},\"type\":\"scatter\"}],\"parcoords\":[{\"type\":\"parcoords\",\"line\":{\"colorbar\":{\"outlinewidth\":0,\"ticks\":\"\"}}}],\"scatterpolargl\":[{\"type\":\"scatterpolargl\",\"marker\":{\"colorbar\":{\"outlinewidth\":0,\"ticks\":\"\"}}}],\"bar\":[{\"error_x\":{\"color\":\"#2a3f5f\"},\"error_y\":{\"color\":\"#2a3f5f\"},\"marker\":{\"line\":{\"color\":\"#E5ECF6\",\"width\":0.5},\"pattern\":{\"fillmode\":\"overlay\",\"size\":10,\"solidity\":0.2}},\"type\":\"bar\"}],\"scattergeo\":[{\"type\":\"scattergeo\",\"marker\":{\"colorbar\":{\"outlinewidth\":0,\"ticks\":\"\"}}}],\"scatterpolar\":[{\"type\":\"scatterpolar\",\"marker\":{\"colorbar\":{\"outlinewidth\":0,\"ticks\":\"\"}}}],\"histogram\":[{\"marker\":{\"pattern\":{\"fillmode\":\"overlay\",\"size\":10,\"solidity\":0.2}},\"type\":\"histogram\"}],\"scattergl\":[{\"type\":\"scattergl\",\"marker\":{\"colorbar\":{\"outlinewidth\":0,\"ticks\":\"\"}}}],\"scatter3d\":[{\"type\":\"scatter3d\",\"line\":{\"colorbar\":{\"outlinewidth\":0,\"ticks\":\"\"}},\"marker\":{\"colorbar\":{\"outlinewidth\":0,\"ticks\":\"\"}}}],\"scattermapbox\":[{\"type\":\"scattermapbox\",\"marker\":{\"colorbar\":{\"outlinewidth\":0,\"ticks\":\"\"}}}],\"scatterternary\":[{\"type\":\"scatterternary\",\"marker\":{\"colorbar\":{\"outlinewidth\":0,\"ticks\":\"\"}}}],\"scattercarpet\":[{\"type\":\"scattercarpet\",\"marker\":{\"colorbar\":{\"outlinewidth\":0,\"ticks\":\"\"}}}],\"carpet\":[{\"aaxis\":{\"endlinecolor\":\"#2a3f5f\",\"gridcolor\":\"white\",\"linecolor\":\"white\",\"minorgridcolor\":\"white\",\"startlinecolor\":\"#2a3f5f\"},\"baxis\":{\"endlinecolor\":\"#2a3f5f\",\"gridcolor\":\"white\",\"linecolor\":\"white\",\"minorgridcolor\":\"white\",\"startlinecolor\":\"#2a3f5f\"},\"type\":\"carpet\"}],\"table\":[{\"cells\":{\"fill\":{\"color\":\"#EBF0F8\"},\"line\":{\"color\":\"white\"}},\"header\":{\"fill\":{\"color\":\"#C8D4E3\"},\"line\":{\"color\":\"white\"}},\"type\":\"table\"}],\"barpolar\":[{\"marker\":{\"line\":{\"color\":\"#E5ECF6\",\"width\":0.5},\"pattern\":{\"fillmode\":\"overlay\",\"size\":10,\"solidity\":0.2}},\"type\":\"barpolar\"}],\"pie\":[{\"automargin\":true,\"type\":\"pie\"}]},\"layout\":{\"autotypenumbers\":\"strict\",\"colorway\":[\"#636efa\",\"#EF553B\",\"#00cc96\",\"#ab63fa\",\"#FFA15A\",\"#19d3f3\",\"#FF6692\",\"#B6E880\",\"#FF97FF\",\"#FECB52\"],\"font\":{\"color\":\"#2a3f5f\"},\"hovermode\":\"closest\",\"hoverlabel\":{\"align\":\"left\"},\"paper_bgcolor\":\"white\",\"plot_bgcolor\":\"#E5ECF6\",\"polar\":{\"bgcolor\":\"#E5ECF6\",\"angularaxis\":{\"gridcolor\":\"white\",\"linecolor\":\"white\",\"ticks\":\"\"},\"radialaxis\":{\"gridcolor\":\"white\",\"linecolor\":\"white\",\"ticks\":\"\"}},\"ternary\":{\"bgcolor\":\"#E5ECF6\",\"aaxis\":{\"gridcolor\":\"white\",\"linecolor\":\"white\",\"ticks\":\"\"},\"baxis\":{\"gridcolor\":\"white\",\"linecolor\":\"white\",\"ticks\":\"\"},\"caxis\":{\"gridcolor\":\"white\",\"linecolor\":\"white\",\"ticks\":\"\"}},\"coloraxis\":{\"colorbar\":{\"outlinewidth\":0,\"ticks\":\"\"}},\"colorscale\":{\"sequential\":[[0.0,\"#0d0887\"],[0.1111111111111111,\"#46039f\"],[0.2222222222222222,\"#7201a8\"],[0.3333333333333333,\"#9c179e\"],[0.4444444444444444,\"#bd3786\"],[0.5555555555555556,\"#d8576b\"],[0.6666666666666666,\"#ed7953\"],[0.7777777777777778,\"#fb9f3a\"],[0.8888888888888888,\"#fdca26\"],[1.0,\"#f0f921\"]],\"sequentialminus\":[[0.0,\"#0d0887\"],[0.1111111111111111,\"#46039f\"],[0.2222222222222222,\"#7201a8\"],[0.3333333333333333,\"#9c179e\"],[0.4444444444444444,\"#bd3786\"],[0.5555555555555556,\"#d8576b\"],[0.6666666666666666,\"#ed7953\"],[0.7777777777777778,\"#fb9f3a\"],[0.8888888888888888,\"#fdca26\"],[1.0,\"#f0f921\"]],\"diverging\":[[0,\"#8e0152\"],[0.1,\"#c51b7d\"],[0.2,\"#de77ae\"],[0.3,\"#f1b6da\"],[0.4,\"#fde0ef\"],[0.5,\"#f7f7f7\"],[0.6,\"#e6f5d0\"],[0.7,\"#b8e186\"],[0.8,\"#7fbc41\"],[0.9,\"#4d9221\"],[1,\"#276419\"]]},\"xaxis\":{\"gridcolor\":\"white\",\"linecolor\":\"white\",\"ticks\":\"\",\"title\":{\"standoff\":15},\"zerolinecolor\":\"white\",\"automargin\":true,\"zerolinewidth\":2},\"yaxis\":{\"gridcolor\":\"white\",\"linecolor\":\"white\",\"ticks\":\"\",\"title\":{\"standoff\":15},\"zerolinecolor\":\"white\",\"automargin\":true,\"zerolinewidth\":2},\"scene\":{\"xaxis\":{\"backgroundcolor\":\"#E5ECF6\",\"gridcolor\":\"white\",\"linecolor\":\"white\",\"showbackground\":true,\"ticks\":\"\",\"zerolinecolor\":\"white\",\"gridwidth\":2},\"yaxis\":{\"backgroundcolor\":\"#E5ECF6\",\"gridcolor\":\"white\",\"linecolor\":\"white\",\"showbackground\":true,\"ticks\":\"\",\"zerolinecolor\":\"white\",\"gridwidth\":2},\"zaxis\":{\"backgroundcolor\":\"#E5ECF6\",\"gridcolor\":\"white\",\"linecolor\":\"white\",\"showbackground\":true,\"ticks\":\"\",\"zerolinecolor\":\"white\",\"gridwidth\":2}},\"shapedefaults\":{\"line\":{\"color\":\"#2a3f5f\"}},\"annotationdefaults\":{\"arrowcolor\":\"#2a3f5f\",\"arrowhead\":0,\"arrowwidth\":1},\"geo\":{\"bgcolor\":\"white\",\"landcolor\":\"#E5ECF6\",\"subunitcolor\":\"white\",\"showland\":true,\"showlakes\":true,\"lakecolor\":\"white\"},\"title\":{\"x\":0.05},\"mapbox\":{\"style\":\"light\"}}},\"xaxis\":{\"anchor\":\"y\",\"domain\":[0.0,1.0],\"scaleanchor\":\"y\",\"constrain\":\"domain\"},\"yaxis\":{\"anchor\":\"x\",\"domain\":[0.0,1.0],\"autorange\":\"reversed\",\"constrain\":\"domain\"},\"coloraxis\":{\"colorscale\":[[0.0,\"#0d0887\"],[0.1111111111111111,\"#46039f\"],[0.2222222222222222,\"#7201a8\"],[0.3333333333333333,\"#9c179e\"],[0.4444444444444444,\"#bd3786\"],[0.5555555555555556,\"#d8576b\"],[0.6666666666666666,\"#ed7953\"],[0.7777777777777778,\"#fb9f3a\"],[0.8888888888888888,\"#fdca26\"],[1.0,\"#f0f921\"]]},\"margin\":{\"t\":60}},                        {\"responsive\": true}                    ).then(function(){\n",
              "                            \n",
              "var gd = document.getElementById('aaa6dc28-ccaf-43f0-aceb-c82897df350f');\n",
              "var x = new MutationObserver(function (mutations, observer) {{\n",
              "        var display = window.getComputedStyle(gd).display;\n",
              "        if (!display || display === 'none') {{\n",
              "            console.log([gd, 'removed!']);\n",
              "            Plotly.purge(gd);\n",
              "            observer.disconnect();\n",
              "        }}\n",
              "}});\n",
              "\n",
              "// Listen for the removal of the full notebook cells\n",
              "var notebookContainer = gd.closest('#notebook-container');\n",
              "if (notebookContainer) {{\n",
              "    x.observe(notebookContainer, {childList: true});\n",
              "}}\n",
              "\n",
              "// Listen for the clearing of the current output cell\n",
              "var outputEl = gd.closest('.output');\n",
              "if (outputEl) {{\n",
              "    x.observe(outputEl, {childList: true});\n",
              "}}\n",
              "\n",
              "                        })                };                            </script>        </div>\n",
              "</body>\n",
              "</html>"
            ]
          },
          "metadata": {}
        }
      ]
    },
    {
      "cell_type": "markdown",
      "source": [
        "##**Exploratory Data Analysis**"
      ],
      "metadata": {
        "id": "YVd8wfBkV9OE"
      }
    },
    {
      "cell_type": "code",
      "source": [
        "# Menyiapkan data\n",
        "data = df_file.groupby('vehicle.type')['reviewCount'].sum()\n",
        "\n",
        "# Membuat bar chart\n",
        "plt.figure(figsize=(10, 6))\n",
        "data.plot(kind='bar', color='skyblue')\n",
        "plt.title('Total Ulasan Berdasarkan Jenis Kendaraan')\n",
        "plt.xlabel('Jenis Kendaraan')\n",
        "plt.ylabel('Total Ulasan')\n",
        "plt.xticks(rotation=45, ha='right')\n",
        "plt.grid(axis='y')\n",
        "\n",
        "# Menampilkan bar chart\n",
        "plt.tight_layout()\n",
        "plt.show()"
      ],
      "metadata": {
        "id": "_ohZShs2Wv9r",
        "colab": {
          "base_uri": "https://localhost:8080/",
          "height": 607
        },
        "outputId": "b2e4f8c4-93b6-4138-da9f-808515b5c06a"
      },
      "execution_count": null,
      "outputs": [
        {
          "output_type": "display_data",
          "data": {
            "text/plain": [
              "<Figure size 1000x600 with 1 Axes>"
            ],
            "image/png": "[encoded data removed]"
          },
          "metadata": {}
        }
      ]
    },
    {
      "cell_type": "markdown",
      "source": [
        "**Bar Chart: Total Ulasan Berdasarkan Jenis Kendaraan**\n",
        "\n",
        "   Penjelasan: Bar chart tersebut menunjukkan total ulasan yang diberikan untuk setiap jenis kendaraan. Dari visualisasi ini, terlihat bahwa jenis kendaraan SUV memiliki jumlah ulasan tertinggi, diikuti oleh sedan dan truck. Sedangkan jenis kendaraan lainnya memiliki jumlah ulasan yang lebih rendah. Asumsi yang mungkin terkait adalah bahwa kendaraan dengan jenis yang lebih umum atau populer cenderung mendapatkan lebih banyak ulasan daripada yang lainnya."
      ],
      "metadata": {
        "id": "s90ygAoyV_rC"
      }
    },
    {
      "cell_type": "code",
      "source": [
        "# Membaca dataset\n",
        "df_file = pd.read_csv('CarRentalData.csv')\n",
        "\n",
        "# Menghitung korelasi antar kolom numerik\n",
        "corr = df_file.corr()\n",
        "\n",
        "# Membuat heatmap korelasi\n",
        "plt.figure(figsize=(10, 8))\n",
        "sns.heatmap(corr, annot=True, cmap='coolwarm', fmt=\".2f\")\n",
        "plt.title('Heatmap Korelasi Antar Kolom Numerik')\n",
        "plt.show()\n"
      ],
      "metadata": {
        "colab": {
          "base_uri": "https://localhost:8080/",
          "height": 899
        },
        "id": "FPVQPuq8GJqy",
        "outputId": "3ef8ae37-46ed-410e-be70-3955321f9c18"
      },
      "execution_count": null,
      "outputs": [
        {
          "output_type": "stream",
          "name": "stderr",
          "text": [
            "<ipython-input-24-d16ffe92b83c>:5: FutureWarning:\n",
            "\n",
            "The default value of numeric_only in DataFrame.corr is deprecated. In a future version, it will default to False. Select only valid columns or specify the value of numeric_only to silence this warning.\n",
            "\n"
          ]
        },
        {
          "output_type": "display_data",
          "data": {
            "text/plain": [
              "<Figure size 1000x800 with 2 Axes>"
            ],
            "image/png": "[encoded data removed]"
          },
          "metadata": {}
        }
      ]
    },
    {
      "cell_type": "markdown",
      "source": [
        "Visualisasi heatmap korelasi digunakan untuk menampilkan tingkat korelasi antar kolom numerik dalam dataset. Dari heatmap tersebut, kita dapat melihat apakah terdapat hubungan positif atau negatif antara dua kolom numerik. Sebagai contoh, jika terdapat korelasi positif yang tinggi antara dua kolom, maka ketika nilai kolom satu meningkat, nilai kolom lainnya cenderung meningkat juga. Sebaliknya, jika terdapat korelasi negatif yang tinggi, ketika nilai kolom satu meningkat, nilai kolom lainnya cenderung menurun. Oleh karena itu, heatmap korelasi membantu dalam menemukan pola atau hubungan antara variabel dalam dataset."
      ],
      "metadata": {
        "id": "tT0yTI1XGJa-"
      }
    },
    {
      "cell_type": "markdown",
      "source": [
        "##**Verify Data Quality**"
      ],
      "metadata": {
        "id": "BqwrKc6WXFpz"
      }
    },
    {
      "cell_type": "markdown",
      "source": [
        "####Missing Values"
      ],
      "metadata": {
        "id": "JrPhpE3VXTMR"
      }
    },
    {
      "cell_type": "code",
      "source": [
        "# Membaca dataset\n",
        "df_file = pd.read_csv('CarRentalData.csv')\n",
        "\n",
        "# Memeriksa adanya nilai yang hilang\n",
        "missing_values = df_file.isnull().sum()\n",
        "\n",
        "# Menampilkan jumlah nilai yang hilang untuk setiap kolom\n",
        "print(\"Jumlah nilai yang hilang untuk setiap kolom:\")\n",
        "print(missing_values)\n",
        "\n",
        "# Menampilkan persentase nilai yang hilang untuk setiap kolom\n",
        "total_cells = df_file.shape[0] * df_file.shape[1]\n",
        "total_missing = missing_values.sum()\n",
        "percentage_missing = (total_missing / total_cells) * 100\n",
        "print(\"\\nPersentase nilai yang hilang dalam dataset: {:.2f}%\".format(percentage_missing))#Tambahkan kode untuk mengecek apakah ada nilai kosong pada tiap kolom di dataset kalian ya"
      ],
      "metadata": {
        "id": "iq2vTmQJXhuj",
        "colab": {
          "base_uri": "https://localhost:8080/"
        },
        "outputId": "9b4da559-60e7-4df5-8f11-be0de4a29896"
      },
      "execution_count": null,
      "outputs": [
        {
          "output_type": "stream",
          "name": "stdout",
          "text": [
            "Jumlah nilai yang hilang untuk setiap kolom:\n",
            "fuelType               75\n",
            "rating                501\n",
            "renterTripsTaken        0\n",
            "reviewCount             0\n",
            "location.city           0\n",
            "location.country        0\n",
            "location.latitude       0\n",
            "location.longitude      0\n",
            "location.state          0\n",
            "owner.id                0\n",
            "rate.daily              0\n",
            "vehicle.make            0\n",
            "vehicle.model           0\n",
            "vehicle.type            0\n",
            "vehicle.year            0\n",
            "dtype: int64\n",
            "\n",
            "Persentase nilai yang hilang dalam dataset: 0.66%\n"
          ]
        }
      ]
    },
    {
      "cell_type": "markdown",
      "source": [
        "1. **Jumlah nilai yang hilang untuk setiap kolom**:\n",
        "   - Hasil ini menunjukkan jumlah nilai yang kosong (missing values) dalam setiap kolom dataset. Jika ada nilai yang kosong, angka ini akan menunjukkan berapa banyak nilai yang perlu diisi atau diperiksa lebih lanjut.\n",
        "   - Jika jumlah nilai yang hilang untuk sebuah kolom adalah nol, itu berarti tidak ada nilai yang kosong dalam kolom tersebut. Ini adalah indikasi yang baik bahwa data dalam kolom tersebut lengkap.\n",
        "\n",
        "2. **Persentase nilai yang hilang dalam dataset**:\n",
        "   - Persentase ini memberikan gambaran tentang seberapa besar proporsi dari seluruh dataset yang terdiri dari nilai kosong.\n",
        "   - Jika persentase ini mendekati nol, itu menandakan bahwa dataset memiliki sedikit nilai yang hilang dan kualitas data secara keseluruhan baik.\n",
        "   - Namun, jika persentase ini tinggi (misalnya, lebih dari 5% atau 10%), itu menunjukkan bahwa sejumlah besar data mungkin hilang, yang dapat mempengaruhi analisis dan kesimpulan yang diambil dari dataset tersebut."
      ],
      "metadata": {
        "id": "2qJ5hwEqXoLo"
      }
    },
    {
      "cell_type": "markdown",
      "source": [
        "####Outliers Values"
      ],
      "metadata": {
        "id": "jEeCU-vVXV84"
      }
    },
    {
      "cell_type": "code",
      "source": [
        "import pandas as pd\n",
        "\n",
        "# Load data\n",
        "df = pd.read_csv('CarRentalData.csv')\n",
        "\n",
        "# Fungsi untuk mendeteksi outliers menggunakan metode IQR (Interquartile Range)\n",
        "def detect_outliers(data):\n",
        "    Q1 = data.quantile(0.25)\n",
        "    Q3 = data.quantile(0.75)\n",
        "    IQR = Q3 - Q1\n",
        "    lower_bound = Q1 - 1.5 * IQR\n",
        "    upper_bound = Q3 + 1.5 * IQR\n",
        "    outliers = (data < lower_bound) | (data > upper_bound)\n",
        "    return outliers\n",
        "\n",
        "# Deteksi outliers untuk setiap kolom numerik\n",
        "outliers_df = df.select_dtypes(include=['int64', 'float64']).apply(detect_outliers)\n",
        "\n",
        "# Hitung persentase outliers\n",
        "outliers_percentage = (outliers_df.sum() / len(df)) * 100\n",
        "\n",
        "# Tampilkan hasil\n",
        "print(\"Persentase Outliers dalam Dataset:\")\n",
        "print(outliers_percentage)\n"
      ],
      "metadata": {
        "id": "HGiqZ6aOX6HY",
        "colab": {
          "base_uri": "https://localhost:8080/"
        },
        "outputId": "7ecdc537-6452-4a5e-d859-686721ecfc2f"
      },
      "execution_count": null,
      "outputs": [
        {
          "output_type": "stream",
          "name": "stdout",
          "text": [
            "Persentase Outliers dalam Dataset:\n",
            "rating                8.203726\n",
            "renterTripsTaken      6.221159\n",
            "reviewCount           6.169885\n",
            "location.latitude     0.769099\n",
            "location.longitude    0.000000\n",
            "owner.id              0.000000\n",
            "rate.daily            5.708426\n",
            "vehicle.year          2.392753\n",
            "dtype: float64\n"
          ]
        }
      ]
    },
    {
      "cell_type": "markdown",
      "source": [
        "1. **Rating**: Dalam konteks dataset ini, rating mengacu pada peringkat atau penilaian yang diberikan kepada suatu objek atau layanan. Persentase outliers sebesar 8.20% menunjukkan bahwa sebagian kecil nilai rating berada jauh dari nilai-nilai lainnya, yang dapat mengindikasikan adanya ulasan yang sangat tinggi atau sangat rendah yang mungkin perlu ditinjau lebih lanjut.\n",
        "\n",
        "2. **RenterTripsTaken**: Ini mengacu pada jumlah perjalanan yang diambil oleh penyewa. Persentase outliers sebesar 6.22% menunjukkan bahwa ada beberapa penyewa yang melakukan jumlah perjalanan yang jauh lebih tinggi atau lebih rendah dari mayoritas, yang bisa menjadi perhatian untuk analisis lebih lanjut.\n",
        "\n",
        "3. **ReviewCount**: merujuk pada jumlah ulasan yang diberikan untuk suatu objek atau layanan. Persentase outliers sebesar 6.17% menunjukkan bahwa ada beberapa objek atau layanan yang menerima jumlah ulasan yang sangat tinggi atau sangat rendah dibandingkan dengan yang lain.\n",
        "\n",
        "4. **Location.latitude dan Location.longitude**: Ini koordinat geografis lokasi objek atau layanan. Persentase outliers yang rendah (0.77% untuk latitude dan 0% untuk longitude) menunjukkan bahwa sebagian besar data koordinat berada dalam kisaran yang wajar, dengan sebagian kecil nilai yang mungkin berada jauh dari mayoritas.\n",
        "\n",
        "5. **Owner.id**: Ini mengacu pada identifikasi unik pemilik objek atau layanan. Persentase outliers yang rendah (0%) menunjukkan bahwa mayoritas data memiliki identifikasi yang seragam, tanpa nilai yang jauh berbeda.\n",
        "\n",
        "6. **Rate.daily**: Ini  adalah tarif harian untuk objek atau layanan tersebut. Persentase outliers sebesar 5.71% menunjukkan bahwa ada beberapa tarif harian yang jauh lebih tinggi atau lebih rendah dari mayoritas, yang mungkin perlu ditinjau lebih lanjut.\n",
        "\n",
        "7. **Vehicle.year**: Ini  mengacu pada tahun pembuatan kendaraan. Persentase outliers sebesar 2.39% menunjukkan bahwa ada beberapa kendaraan dengan tahun pembuatan yang jauh lebih tua atau lebih baru dari mayoritas, yang bisa menjadi perhatian untuk analisis lebih lanjut."
      ],
      "metadata": {
        "id": "ggn0R2wCXuSC"
      }
    },
    {
      "cell_type": "markdown",
      "source": [
        "####Duplicated Values"
      ],
      "metadata": {
        "id": "vWjwGwZaXaod"
      }
    },
    {
      "cell_type": "code",
      "source": [
        "# Load data\n",
        "df = pd.read_csv('CarRentalData.csv')\n",
        "\n",
        "# Periksa keberadaan nilai-nilai yang diduplikasi\n",
        "duplicate_rows = df[df.duplicated()]\n",
        "\n",
        "# Tampilkan hasil\n",
        "print(\"Jumlah nilai yang diduplikasi dalam dataset:\", len(duplicate_rows))\n"
      ],
      "metadata": {
        "id": "7wcta1dbX8l3",
        "colab": {
          "base_uri": "https://localhost:8080/"
        },
        "outputId": "de73780d-f69f-48a4-8c40-86a58e6c12c3"
      },
      "execution_count": null,
      "outputs": [
        {
          "output_type": "stream",
          "name": "stdout",
          "text": [
            "Jumlah nilai yang diduplikasi dalam dataset: 0\n"
          ]
        }
      ]
    },
    {
      "cell_type": "markdown",
      "source": [
        "Hasil query ' Jumlah nilai yang diduplikasi dalam dataset: 0 ' menyatakan bahwa dalam dataset tidak ada nilai yang diduplikasi. Ini berarti setiap baris dalam dataset memiliki nilai yang unik, tidak ada duplikasi data. Penemuan ini menunjukkan bahwa tidak ada observasi yang identik dalam dataset, yang bisa menjadi indikasi bahwa data telah diolah dengan benar atau sudah diambil langkah-langkah untuk menghilangkan duplikasi sebelumnya.\n",
        "\n",
        "Jika terdapat nilai yang diduplikasi dalam dataset, hal itu dapat menyebabkan masalah dalam analisis data karena observasi yang identik bisa menyebabkan kesalahan dalam model atau analisis statistik. Dengan tidak adanya nilai yang diduplikasi, dapat disimpulkan dataset tersebut telah melalui proses pembersihan data yang baik atau dihasilkan dari sumber data yang terorganisir dengan baik yang memastikan keunikannya."
      ],
      "metadata": {
        "id": "VKTUrMJAX0fv"
      }
    },
    {
      "cell_type": "markdown",
      "source": [
        "#### Inconsistent Values / Noise (Optional)"
      ],
      "metadata": {
        "id": "FjBTOoHE6lJb"
      }
    },
    {
      "cell_type": "code",
      "source": [],
      "metadata": {
        "id": "jGgTJzpJ65vY"
      },
      "execution_count": null,
      "outputs": []
    },
    {
      "cell_type": "markdown",
      "source": [
        "tidak ada data noice (opsional)"
      ],
      "metadata": {
        "id": "EgefZ1fm68Hg"
      }
    }
  ]
}